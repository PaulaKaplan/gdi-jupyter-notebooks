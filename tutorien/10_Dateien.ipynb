{
 "cells": [
  {
   "cell_type": "markdown",
   "metadata": {},
   "source": [
    "# Arbeiten mit Dateien\n",
    "\n",
    "In diesem Tutorial soll der Umgang mit Dateien geübt werden. Am Ende des Tutorials soll eine Log Software entstehen, die Texte in einer Datei speichert und mit einer fortlaufenden Nummer versieht. Es wird angenommen, dass die Datei bereits existiert und einige Einträge enthält.\n",
    "\n",
    "Der Inhalt der Log Datei soll wie folgt aussehen:\n",
    "\n",
    "<pre>\n",
    "1,Der erste Log Eintrag\n",
    "2,Ein weiterer Eintrag\n",
    "3,Test\n",
    "...</pre>\n",
    "\n",
    "Eine Zeile fängt also immer mit einer Zahl (der Zeilennummer) an. Danach folgt ein Komma und dann der eigentliche Text, der gespeichert werden soll.\n",
    "\n",
    "## Aufgabe 1 - Zeichen in Strings finden\n",
    "\n",
    "Schreiben Sie eine Funktion <code>str_find(text, zeichen)</code>, die im String *text* nach dem Zeichen *zeichen* sucht und die erste Fundstelle zurückliefert. Falls das Zeichen nicht im Text enthalten ist, soll <code>-1</code> zurückgegeben werden.\n",
    "\n",
    "**Beispiele**\n",
    "\n",
    "| Funktionsaufruf | Rückgabewert |\n",
    "|-----------------|--------------|\n",
    "|<code>str_find(\"Hallo\", \"a\")</code>| 1  |\n",
    "|<code>str_find(\"Hallo\", \"l\")</code>| 2  |\n",
    "|<code>str_find(\"Hallo\", \"x\")</code>| -1 |\n",
    "|<code>str_find(\"Dies ist ein Test!\", \"!\")</code>| 17 |"
   ]
  },
  {
   "cell_type": "code",
   "execution_count": null,
   "metadata": {},
   "outputs": [],
   "source": [
    "# Funktion 'str_find'\n",
    "def str_find(text, zeichen):\n",
    "    # bitte hier Funktion implementieren und Rückgabewert anpassen\n",
    "    return 0\n",
    "    \n",
    "# Funktion 'str_find' testen\n",
    "if(str_find(\"Hallo\", \"a\") != 1):\n",
    "    print(\"Die Funktion funktioniert noch nicht richtig.\")\n",
    "if(str_find(\"Hallo\", \"l\") != 2):\n",
    "    print(\"Die Funktion funktioniert noch nicht richtig.\")\n",
    "if(str_find(\"Hallo\", \"x\") != -1):\n",
    "    print(\"Die Funktion funktioniert noch nicht richtig.\")\n",
    "if(str_find(\"Dies ist ein Test!\", \"!\") != 17):\n",
    "    print(\"Die Funktion funktioniert noch nicht richtig.\")"
   ]
  },
  {
   "cell_type": "markdown",
   "metadata": {},
   "source": [
    "## Aufgabe 2 - Die Zahl aus einer Zeile der Logdatei extrahieren\n",
    "\n",
    "Schreiben Sie eine Funktion <code>get_lognumber(text)</code>, die aus einer gegebenen Zeile der Logdatei wie sie oben beispielhaft gezeigt sind, die Zahl am Anfang extrahiert und als Integer Wert zurückgibt.\n",
    "\n",
    "**Beispiele**\n",
    "\n",
    "| Funktionsaufruf | Rückgabewert |\n",
    "|-----------------|--------------|\n",
    "|<code>get_lognumber(\"3,der dritte Logeintrag\")</code>| 3 |\n",
    "|<code>get_lognumber(\"10,der x-te Logeintrag\")</code>| 10 |\n",
    "|<code>get_lognumber(\"1,die allererste Zeile\")</code>| 1 |\n",
    "\n",
    "**Hinweis**\n",
    "\n",
    "Verwenden Sie die eben geschriebene Funktion <code>str_find()</code>, um die Position des ',' in der Zeile zu finden und entfernen Sie alles danach aus dem String *text*."
   ]
  },
  {
   "cell_type": "code",
   "execution_count": null,
   "metadata": {},
   "outputs": [],
   "source": [
    "# Funktion 'get_lognumber'\n",
    "def get_lognumber(text):\n",
    "    # bitte hier Funktion implementieren und Rückgabewert anpassen\n",
    "    return 0\n",
    "\n",
    "# Funktion 'get_lognumber' testen\n",
    "if(get_lognumber(\"3,der dritte Logeintrag\") != 3):\n",
    "    print(\"Die Funktion funktioniert noch nicht richtig.\")\n",
    "if(get_lognumber(\"10,der x-te Logeintrag\") != 10):\n",
    "    print(\"Die Funktion funktioniert noch nicht richtig.\")\n",
    "if(get_lognumber(\"1,die allererste Zeile\") != 1):\n",
    "    print(\"Die Funktion funktioniert noch nicht richtig.\")"
   ]
  },
  {
   "cell_type": "markdown",
   "metadata": {},
   "source": [
    "## Aufgabe 3 - Die größte Zeilennummer in einer Datei finden\n",
    "\n",
    "Schreiben Sie eine Funktion <code>get_highest_lognumber(filename)</code>, die in der Datei *filename* die Logeinträge auswertet und die größte gefundene Lognummer zurückgibt. Zum Testen gibt es im Ordner 'files' dieser Aufgabensammlung einige Beispieldateien mit Logeinträgen.\n",
    "\n",
    "| Funktionsaufruf | Rückgabewert |\n",
    "|-----------------|--------------|\n",
    "|<code>get_highest_lognumber(\"files/log_1.txt\")</code>| 3 |\n",
    "|<code>get_highest_lognumber(\"files/log_2.txt\")</code>| 4 |\n",
    "|<code>get_highest_lognumber(\"files/log_3.txt\")</code>| 7 |\n",
    "\n",
    "**Hinweis**\n",
    "\n",
    "Die Funktion soll die angegebene Datei zum Lesen öffnen, alle enthaltenen Zeilen einlesen und jeweils die Lognummer auswerten. Dabei soll die höchste der Lognummern gespeichert und später zurückgegeben werden. Zuvor soll die Datei jedoch wieder geschlossen werden."
   ]
  },
  {
   "cell_type": "code",
   "execution_count": null,
   "metadata": {},
   "outputs": [],
   "source": [
    "# Funktion 'get_highest_lognumber'\n",
    "def get_highest_lognumber(filename):\n",
    "    # bitte hier Funktion implementieren und Rückgabewert anpassen\n",
    "    return 0\n",
    "\n",
    "# Funktion 'get_highest_lognumber' testen\n",
    "if(get_highest_lognumber(\"files/log_1.txt\") != 3):\n",
    "    print(\"Die Funktion funktioniert noch nicht richtig.\")\n",
    "if(get_highest_lognumber(\"files/log_2.txt\") != 4):\n",
    "    print(\"Die Funktion funktioniert noch nicht richtig.\")\n",
    "if(get_highest_lognumber(\"files/log_3.txt\") != 7):\n",
    "    print(\"Die Funktion funktioniert noch nicht richtig.\")"
   ]
  },
  {
   "cell_type": "markdown",
   "metadata": {},
   "source": [
    "## Aufgabe 4 - Zeilen zu einer Logdatei hinzufügen\n",
    "\n",
    "Schreiben Sie eine Funktion <code>add_logentry(filename, text)</code>, die einer bestehenden Logdatei *filename* den Logeintrag *text* hinzufügt. Dabei soll der neue Logeintrag passend nummeriert an die gegebene Datei angehängt werden.\n",
    "\n",
    "**Hinweis**\n",
    "\n",
    "Finden Sie zunächst mit Hilfe der Funktion <code>get_highest_lognumber()</code> die größte vorhandene Lognummer in der gegebenen Datei. Versehen Sie dann den gegeben Text mit der nächsthöheren Zahl und dem trennenden ',' und hängen ihn an die Datei an. Öffnen Sie die Datei dazu mit der Option <code>\"a\"</code>. Vergessen Sie nicht, die Datei anschließend wieder zu schließen."
   ]
  },
  {
   "cell_type": "code",
   "execution_count": null,
   "metadata": {},
   "outputs": [],
   "source": [
    "# Funktion 'add_logentry'\n",
    "def add_logentry(filename, text):\n",
    "    # Hier Funktion implementieren\n",
    "    \n",
    "add_logentry(\"files/log_1.txt\", \"Computerlogbuch der USS Enterprise;Captain Picard;Sternzeit 41300.7:Die neue Logbuch-Software funktioniert und ist einsatzbereit.\")"
   ]
  }
 ],
 "metadata": {
  "kernelspec": {
   "display_name": "Python 3",
   "language": "python",
   "name": "python3"
  },
  "language_info": {
   "codemirror_mode": {
    "name": "ipython",
    "version": 3
   },
   "file_extension": ".py",
   "mimetype": "text/x-python",
   "name": "python",
   "nbconvert_exporter": "python",
   "pygments_lexer": "ipython3",
   "version": "3.5.2"
  }
 },
 "nbformat": 4,
 "nbformat_minor": 2
}
