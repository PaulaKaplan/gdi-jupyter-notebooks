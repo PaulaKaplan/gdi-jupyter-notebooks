{
 "cells": [
  {
   "cell_type": "markdown",
   "metadata": {},
   "source": [
    "# Zufallszahlen\n",
    "\n",
    "**Lernziele:**\n",
    "\n",
    "Nach Durcharbeiten des Tutoriums „Zufallszahlen“ sollen Sie in der Lage sein, ...\n",
    "- die Lineare Kongruenzmethode als Technik der Berechnung von Zufallszahlen in eigenen Worten zu beschreiben und die mathematische Formel hierzu wiedergeben zu können.\n",
    "- Standard-Funktionen in Python zur Erzeugung von Zufallszahlen anhand von einem Beispiel erklären zu können.\n",
    "- Anwendungsszenarien für die Verwendung von Zufallszahlen aufzählen zu können.\n",
    "\n",
    "## Zufallszahlen erzeugen\n",
    "### Einführendes Beispiel\n",
    "Zufallszahlen werden in der Programmierung überwiegend für Simulationen verwendet. Ein einfaches Beispiel ist die Simulation eines „Lottospiels“. In der Realität werden echte Kugeln gemischt und dann einzeln (nacheinander) gezogen. In einem Computerprogramm muss die Realität simuliert werden.\n",
    "\n",
    "Zu diesem Zweck werden Funktionen benötigt, die Zahlenfolgen produzieren, bei der auf den ersten Blick nicht ersichtlich ist, welcher Wert als nächstes kommt. Diese Gruppen von Funktionen werden als Zufallszahlengeneratoren bezeichnet. Da Computer allerdings nur arithmetische Operationen ausführen können und keinen „echten“ Zufall erzeugen können, bezeichnet man diese Funktionen auch als Pseudozufallszahlengeneratoren (random number generator, RNG).\n",
    "\n",
    "Eine einfache Methode zur Erzeugung einer Zahlenfolge, deren einzelne Zahlen „zufällig“ erscheinen ist die Lineare Kongruenzmethode. Sie lautet:\n",
    "\n",
    "$$ x_{n+1} = (a \\cdot x_{n} + c) \\, \\mathrm{mod} \\, m $$\n",
    "\n",
    "**Beispiel**\n",
    "\n",
    "m=8, a=5, c=3 und x0=0\n",
    "\n",
    "**(0), 3, 2, 5, 4, 7, 6, 1**, 0, 3, 2, 5, 4, 7, 6, 1, 0, 3, ...\n",
    "\n",
    "Die Zahlenfolge erscheint zufällig, aber sie wiederholt sich. Man spricht von einem Zyklus bzw. einer Periode. Die Anzahl der Elemente eines solchen Zyklus bezeichnet man als Periodenlänge.\n",
    "\n",
    "Die Periodenlänge hier hat den Wert 8.\n",
    "\n",
    "Berechnung der Zahlenfolge:\n",
    "<pre>\n",
    "x0 = 0 (Startwert ist gegeben)\n",
    "x1 = (5 * 0 + 3) mod 8 = 3\n",
    "x2 = (5 * 3 + 3) mod 8 = 2\n",
    "x3 = (5 * 2 + 3) mod 8 = 5\n",
    "....\n",
    "</pre>\n",
    "\n",
    "### Berechnung von Zufallszahlen mit Python\n",
    "In einem ersten Schritt soll eine Zelle erstellt werden, die die ersten n (hier: 20) Zahlen der Zufallszahlenfolge für die Parameter a=5, c=3, m=8 berechnet."
   ]
  },
  {
   "cell_type": "code",
   "execution_count": null,
   "metadata": {},
   "outputs": [],
   "source": [
    "# Parameter\n",
    "a = 5\n",
    "c = 3\n",
    "m = 8\n",
    "\n",
    "# Startwerte\n",
    "x0 = 0\n",
    "n = 0\n",
    "\n",
    "# x0 als erstes Folgenelement übernhehmen und ausgeben\n",
    "x = x0\n",
    "print(\"x\" + str(n) + \" = \" + str(x))\n",
    "\n",
    "# 20 weitere Folgenelemente berechnen und ausgeben\n",
    "for n in range(1, 21):\n",
    "    x = (a * x + c) % m\n",
    "    print(\"x\" + str(n) + \" = \" + str(x))"
   ]
  },
  {
   "cell_type": "markdown",
   "metadata": {},
   "source": [
    "**Aufgaben**\n",
    "\n",
    "- Verändern Sie den Startwert von x0 und die restlichen Parameter und beobachten Sie, wie sich die Zufallsfolge verändert. Können Sie einen Zusammenhang zwischen Parametern und Zufallsfolge feststellen?"
   ]
  },
  {
   "cell_type": "markdown",
   "metadata": {},
   "source": [
    "Die Zufallszahlen sollen nun von einer Klasse <code>zufall</code> erzeugt werden. Dazu sollen der Klasse die Startwerte (m, a, c und x0) mit dem Konstruktor übergeben werden und es soll eine Funktion <code>next</code> geben, die die nächste Zufallszahl der Reihe ausgibt:"
   ]
  },
  {
   "cell_type": "code",
   "execution_count": null,
   "metadata": {},
   "outputs": [],
   "source": [
    "class zufall:\n",
    "    def __init__(self, m, a, c, x0):\n",
    "        # übergebene Parameter im Klassenobjekt speichern\n",
    "        self.m = m\n",
    "        self.a = a\n",
    "        self.c = c\n",
    "        self.xn = x0\n",
    "    \n",
    "    def next(self):\n",
    "        # berechne nächste Zufallszahl\n",
    "        self.xn = (self.a * self.xn + self.c) % self.m\n",
    "        # berechnete Zufallszahl zurückgeben\n",
    "        return self.xn"
   ]
  },
  {
   "cell_type": "code",
   "execution_count": null,
   "metadata": {},
   "outputs": [],
   "source": [
    "# erzeuge ein neues Datenobjekt der Klasse zufall\n",
    "z = zufall(8, 5, 3, 0)\n",
    "\n",
    "# gebe die erste Zahl der Reihe aus\n",
    "print(\"x0 = 0\")\n",
    "\n",
    "# gebe 20 Zufallszahlen der Reihe aus\n",
    "for n in range(1, 21):\n",
    "    print(\"x\" + str(n) + \" = \" + str(z.next()))\n"
   ]
  },
  {
   "cell_type": "markdown",
   "metadata": {},
   "source": [
    "**Aufgabe**\n",
    "\n",
    "Verändern Sie die Funktion zur Berechnung der Zufallszahl so, dass sie nun statt Ganzzahlen Gleitkommazahlen im Bereich  von [0, 1] berechnet.\n",
    "\n",
    "## Python-Funktionen zur Berechnung von Zufallszahlen\n",
    "In Python gibt es bereits Standardfunktionen zur Berechnung von (Pseudo-)Zufallszahlen. Diese sind in der Bibliothek <code>random</code> definiert. Um die Funktionen nutzen zu können, muss diese Bibliothek mit der Anweisung <code>import random</code> geladen werden.\n",
    "\n",
    "Die Zufallszahlen können dann mit der Funktion <code>random.uniform(a, b)</code> erzeugt werden, die eine Fließkommazahl im Bereich [a, b] ausgibt. (Weitere Funktionalitäten der Bibliothek random werden hier beschrieben: https://docs.python.org/3/library/random.html)"
   ]
  },
  {
   "cell_type": "code",
   "execution_count": null,
   "metadata": {},
   "outputs": [],
   "source": [
    "# Erzeuge 10 Zufallszahlen aus [0, 1]\n",
    "import random\n",
    "\n",
    "for i in range(10):\n",
    "    print(random.uniform(0, 1))"
   ]
  },
  {
   "cell_type": "markdown",
   "metadata": {},
   "source": [
    "### Beispiel: Monte Carlo Simulation\n",
    "\n",
    "Die Kreiszahl π soll näherungsweise mit Zufallszahlen berechnet werden. In einem Einheitsquadrat wird ein Vierteilkreis mit Radius r=1 eingezeichnet. Mittels Zufallszahlen werden nun x- und y- Koordinate eines Punkts „gezogen“ und ermittelt, ob sich der Punkt innerhalb oder außerhalb des Viertelkreises befindet. Jeder Treffer wird gezählt. Das Verhältnis von Treffern zur Gesamtzahl kann als Näherungswert der Fläche des Viertelkreises verwendet werden.\n",
    "\n",
    "![Monte Carlo](../bilder/monte_carlo.png)\n",
    "\n",
    "Aus der Flächenformel A = π * r² folgt dann, dass der Verhältniswert π/4 entspricht.\n",
    "\n",
    "Für dieses Beispiel wird die mathematische Funktion Quadratwurzel (in Python <code>math.sqrt()</code>) verwendet. Diese ist in der Bibliothek <code>math</code> enthalten. Am Anfang der Zelle wird also die Bibliothek mit <code>import math</code> geladen."
   ]
  },
  {
   "cell_type": "code",
   "execution_count": null,
   "metadata": {},
   "outputs": [],
   "source": [
    "import random\n",
    "import math\n",
    "\n",
    "# die Anzahl der Treffer wird in dieser Variable gespeichert\n",
    "treffer = 0\n",
    "# die Anzahl der Punkte, die gezogen werden\n",
    "n = 100\n",
    "\n",
    "# n Punkte ziehen und überprüfen, ob sie innerhalb des Viertelkreises liegen\n",
    "for i in range(n):\n",
    "    x = random.uniform(0, 1)\n",
    "    y = random.uniform(0, 1)\n",
    "    \n",
    "    # Entfernung des Punktes vom Ursprung berechnen \n",
    "    r = math.sqrt(x**2 + y**2)\n",
    "    \n",
    "    # ist die Entfernung kleiner als 1.0 dann liegt der Punkt innerhalb des Viertelkreises\n",
    "    if r <= 1.0:\n",
    "        treffer = treffer + 1\n",
    "\n",
    "# wert von pi aus dem Verhältnis aus Treffern zu Gesamtzahl der Punkte bestimmen\n",
    "pi = 4 * (treffer/n)\n",
    "print(\"Wert von pi=\" + str(pi))"
   ]
  },
  {
   "cell_type": "markdown",
   "metadata": {},
   "source": [
    "**Aufgabe**\n",
    "\n",
    "Bestimmen Sie einen Wert für n, so dass der Näherungswert für π in den ersten 3 Kommastellen identisch mit dem wahren Wert ist.\n",
    "\n",
    "### Beispiel: Lottozahlen\n",
    "\n",
    "In der folgenden Python Zelle werden 6 Zufallszahlen gezogen"
   ]
  },
  {
   "cell_type": "code",
   "execution_count": null,
   "metadata": {},
   "outputs": [],
   "source": [
    "import random\n",
    "\n",
    "for i in range(1, 7):\n",
    "    zahl = random.uniform(1, 49)\n",
    "    print(\"Zahl \" + str(i) + \" = \" + str(zahl))"
   ]
  },
  {
   "cell_type": "markdown",
   "metadata": {},
   "source": [
    "**Aufgaben**\n",
    "\n",
    "- Führen Sie die Prozedur 3-mal aus und schreiben Sie sich die berechneten Zahlen auf. Vergleichen Sie dieser Zahlen mit denen Ihres Nachbarn.\n",
    "- Ändern Sie die Prozedur, so dass ganze Zahlen von 1 bis 49 „gezogen“ werden. Hinweis: verwenden Sie dazu die Funktion <code>random.randint(a, b)</code> (https://docs.python.org/3/library/random.html#random.randint)\n",
    "- Führen Sie jetzt Aufgabe a) noch einmal aus. Was fällt Ihnen auf?\n",
    "\n",
    "### Weitere Aufgaben\n",
    "\n",
    "**Aufgabe A** Ziehen, Zählen und Summieren\n",
    "\n",
    "Erstellen Sie eine Python Zelle, die Zufallszahlen mit Werten zwischen 1 und 10 erzeugt. Es sollen solange Zufallszahlen gezogen werden, bis die Summe der Zahlen größer als 21 ist. Anschließend soll die Summe der gezogenen Zahlen sowie die Anzahl der Ziehungen ausgegeben werden.\n",
    "\n",
    "**Aufgabe B** Kleinste, größte Zahl\n",
    "\n",
    "Erstellen Sie eine Python Zelle, die Zufallszahlen mit Werten zwischen 1 und 100 erzeugt. Es sollen 30 Zufallszahlen gezogen werden. Die kleinste sowie die größte der gezogenen Zahlen soll ermittelt und am Ende ausgegeben werden.\n",
    "\n",
    "**Aufgabe C** Arbeiten mit Listen – Lotto spielen\n",
    "\n",
    "Die folgende Python Zelle zieht 6 Zufallszahlen und speichert die gezogenen Zahlen in einer Liste. Am Ende wird die Liste als Zeichenkette ausgegeben.\n",
    "\n",
    "Verändern Sie die gegebene Zelle, so dass insgesamt 6 unterschiedliche Zahlen ermittelt werden, d.h. es werden so lange Zufallszahlen gezogen, bis in der Liste „zahlen“ sechs unterschiedliche Werte vorhanden sind."
   ]
  },
  {
   "cell_type": "code",
   "execution_count": null,
   "metadata": {},
   "outputs": [],
   "source": [
    "import random\n",
    "\n",
    "# 6 Zufallszahlen ziehen\n",
    "zahlen = [0 for i in range(6)]\n",
    "for i in range(6):\n",
    "    z = random.randint(1, 49)\n",
    "    zahlen[i] = z\n",
    "\n",
    "# text erstellen\n",
    "text = \"\"\n",
    "for i in range(6):\n",
    "    text = text + \"-\" + str(zahlen[i])\n",
    "\n",
    "# text ausgeben\n",
    "print(\"Die Lottozahlen von heute \" + text)"
   ]
  }
 ],
 "metadata": {
  "kernelspec": {
   "display_name": "Python 3",
   "language": "python",
   "name": "python3"
  },
  "language_info": {
   "codemirror_mode": {
    "name": "ipython",
    "version": 3
   },
   "file_extension": ".py",
   "mimetype": "text/x-python",
   "name": "python",
   "nbconvert_exporter": "python",
   "pygments_lexer": "ipython3",
   "version": "3.5.2"
  }
 },
 "nbformat": 4,
 "nbformat_minor": 2
}
