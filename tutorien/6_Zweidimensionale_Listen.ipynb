{
 "cells": [
  {
   "cell_type": "markdown",
   "metadata": {},
   "source": [
    "# Zweidimensionale Listen\n",
    "\n",
    "Zweidimensionale Listen haben wir im letzten Tutorium bereits kennen gelernt. In diesem Tutorium folgen einige weitere Aufgaben, die sich mit diesem Thema beschäftigen.\n",
    "\n",
    "**Hinweis:** In Excel und VBA werden oft Tabellenblätter verwendet. Da es diese nicht in Python gibt, verwenden wir ersatzweise zweidimensionale Listen.\n",
    "\n",
    "## Einführendes Beispiel\n",
    "Alle Werte einer Wertespalte sollen in eine Zeile geschrieben werden (Transponieren). Die Anzahl der Werte ist vorgegeben und soll nicht veränderbar sein.\n",
    "\n",
    "Gegeben ist eine Liste mit 5 Werten in der ersten Spalte. Die gesuchte Python Zelle soll die Werte der ersten Spalte in die erste Zeile einer neuen Liste umkopieren, wobei die Reihenfolge erhalten bleiben soll. Der Wert aus Index [0][0] soll an der Stelle erhalten bleiben, [1][0] soll nach [0][1] kopiert werden, [2][0] nach [0][2] usw.\n",
    "\n",
    "**Aufgabe:** Welcher Zusammenhang gilt für Zeilen- und Spaltenindizes, damit die Zahlen korrekt kopiert werden?"
   ]
  },
  {
   "cell_type": "code",
   "execution_count": null,
   "metadata": {},
   "outputs": [],
   "source": [
    "# Angabe\n",
    "angabe = [[6, 0, 0, 0, 0],\n",
    "          [2, 0, 0, 0, 0],\n",
    "          [7, 0, 0, 0, 0],\n",
    "          [3, 0, 0, 0, 0],\n",
    "          [4, 0, 0, 0, 0]\n",
    "         ]\n",
    "\n",
    "# in dieser Tabelle soll das Ergebnis gespeichert werden\n",
    "ergebnis = [[0, 0, 0, 0, 0],\n",
    "            [0, 0, 0, 0, 0],\n",
    "            [0, 0, 0, 0, 0],\n",
    "            [0, 0, 0, 0, 0],\n",
    "            [0, 0, 0, 0, 0]\n",
    "           ]"
   ]
  },
  {
   "cell_type": "code",
   "execution_count": null,
   "metadata": {},
   "outputs": [],
   "source": [
    "# Werte aus der ersten Spalte in die erste Zeile schreiben\n",
    "for i in range(5):\n",
    "    ergebnis[0][i] = angabe[i][0]\n",
    "\n",
    "# Ergebnis ausgeben\n",
    "for i in range(5):\n",
    "    print(ergebnis[i])"
   ]
  },
  {
   "cell_type": "markdown",
   "metadata": {},
   "source": [
    "## Weitere Aufgaben\n",
    "Schreiben Sie jeweils eine Python Zelle, die aus der oben gegebenen Angabe das jeweils vorgegebene Ergebnis erzeugt.\n",
    "\n",
    "**Aufgabe A**\n",
    "\n",
    "<code>4, 0, 0, 0, 0\n",
    "3, 0, 0, 0, 0\n",
    "7, 0, 0, 0, 0\n",
    "2, 0, 0, 0, 0\n",
    "6, 0, 0, 0, 0</code>\n",
    "\n",
    "**Aufgabe B**\n",
    "\n",
    "<code>6, 0, 0, 0, 0\n",
    "0, 2, 0, 0, 0\n",
    "0, 0, 7, 0, 0\n",
    "0, 0, 0, 3, 0\n",
    "0, 0, 0, 0, 4</code>\n",
    "\n",
    "**Aufgabe C**\n",
    "\n",
    "<code>0, 0, 0, 0, 6\n",
    "0, 0, 0, 2, 0\n",
    "0, 0, 7, 0, 0\n",
    "0, 3, 0, 0, 0\n",
    "4, 0, 0, 0, 0</code>\n",
    "\n",
    "**Aufgabe D**\n",
    "\n",
    "<code>6, 0, 0, 0, 0\n",
    "2, 2, 0, 0, 0\n",
    "7, 7, 7, 0, 0\n",
    "3, 3, 3, 3, 0\n",
    "4, 4, 4, 4, 4</code>\n",
    "\n",
    "**Aufgabe E**\n",
    "\n",
    "<code>6, 0, 0, 0, 0\n",
    "2, 0, 0, 0, 0\n",
    "0, 7, 0, 0, 0\n",
    "0, 3, 0, 0, 0\n",
    "4, 0, 0, 0, 0</code>\n",
    "\n",
    "Die geraden Zahlen sollen in Spalte 0 sortiert werden und die ungeraden Zahlen in Spalte 1.\n",
    "\n",
    "**Hinweis:** Verwenden Sie den Modulo Operator <code>%</code> zur Bestimmung der geraden und ungeraden Zahlen:\n",
    "- **Gerade Zahl**: <code>x % 2</code> ergibt den Wert 0.\n",
    "- **Ungerade Zahl**: <code>x % 2</code> ergibt einen Wert ungleich 0.\n",
    "- Zur Erinnerung: Die Operatoren für numerische Variablen finden Sie hier: https://docs.python.org/3/library/stdtypes.html#numeric-types-int-float-complex"
   ]
  }
 ],
 "metadata": {
  "kernelspec": {
   "display_name": "Python 3",
   "language": "python",
   "name": "python3"
  },
  "language_info": {
   "codemirror_mode": {
    "name": "ipython",
    "version": 3
   },
   "file_extension": ".py",
   "mimetype": "text/x-python",
   "name": "python",
   "nbconvert_exporter": "python",
   "pygments_lexer": "ipython3",
   "version": "3.5.2"
  }
 },
 "nbformat": 4,
 "nbformat_minor": 2
}
