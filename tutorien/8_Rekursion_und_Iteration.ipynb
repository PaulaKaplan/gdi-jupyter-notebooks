{
 "cells": [
  {
   "cell_type": "markdown",
   "metadata": {},
   "source": [
    "# Rekursion und Iteration\n",
    "\n",
    "**Lernziele:**\n",
    "\n",
    "Nach Durcharbeiten des Tutoriums „Rekursion und Iteration“ sollen Sie in der Lage sein, ...\n",
    "- Funktionen aufzurufen\n",
    "- Fakultäten iterativ und rekursiv berechnen zu können.\n",
    "- den Unterschied zwischen Rekursion und Iteration erklären zu können.\n",
    "\n",
    "## Berechnung einer Fakultät\n",
    "\n",
    "Beispiele:\n",
    "\n",
    "$$ 5! = 1 \\cdot 2 \\cdot 3 \\cdot 4 \\cdot 5 = 120 $$\n",
    "\n",
    "$$ 6! = 1 \\cdot 2 \\cdot 3 \\cdot 4 \\cdot 5 \\cdot 6 = 720 $$\n",
    "\n",
    "Für die Berechnung stehen zwei Möglichkeiten zur Verfügung:\n",
    "\n",
    "1.) **Iteration**\n",
    "\n",
    "$$ n! = 1 \\cdot 2 \\cdot 3 \\dots \\cdot n = \\prod_{k = 1}^{n} k $$\n",
    "\n",
    "2.) **Rekursion**\n",
    "\n",
    "$$ n! = n \\cdot (n - 1)! $$\n",
    "\n",
    "In Python stehen dazu zwei Möglichkeiten zur Verfügung: die Iteration durch Verwendung einer\n",
    "Zählschleife (<code>for</code>) oder die Rekursion über einen Funktionsaufruf.\n",
    "\n",
    "## Lösungsansätze"
   ]
  },
  {
   "cell_type": "code",
   "execution_count": null,
   "metadata": {},
   "outputs": [],
   "source": [
    "# Fakultät iterativ berechnen\n",
    "def fakultät_iterativ(n):\n",
    "    f = 1\n",
    "    for i in range(1, n + 1):\n",
    "        f = f * i\n",
    "    return f"
   ]
  },
  {
   "cell_type": "code",
   "execution_count": null,
   "metadata": {},
   "outputs": [],
   "source": [
    "# Fakultät rekursiv berechnen\n",
    "def fakultät_rekursiv(n):\n",
    "    if (n == 0):\n",
    "        return 1\n",
    "    else:\n",
    "        return n * fakultät_rekursiv(n-1)"
   ]
  },
  {
   "cell_type": "code",
   "execution_count": null,
   "metadata": {},
   "outputs": [],
   "source": [
    "# beide Funktionen testen\n",
    "n = int(input(\"Bitte n eingeben: \"))\n",
    "\n",
    "f1 = fakultät_iterativ(n)\n",
    "f2 = fakultät_rekursiv(n)\n",
    "\n",
    "print(\"Die Fakultät von \" + str(n) + \" = \" + str(f1) + \" (iterativ)\")\n",
    "print(\"Die Fakultät von \" + str(n) + \" = \" + str(f2) + \" (rekursiv)\")"
   ]
  },
  {
   "cell_type": "markdown",
   "metadata": {},
   "source": [
    "## Weitere Aufgaben\n",
    "\n",
    "Die Aufgaben A und B dienen der Übung.\n",
    "\n",
    "Die Aufgabe C ist interessant, aber mathematisch etwas anspruchsvoll – versuchen Sie es einfach!\n",
    "\n",
    "**Aufgabe A**\n",
    "\n",
    "Formulieren Sie die Aufgaben A bis C des Tutoriums „Schleifen“ (4) als Rekursion.\n",
    "\n",
    "**Aufgabe B**\n",
    "\n",
    "Erstellen Sie eine Python Zelle, die den Wert des Cosinus mit Hilfe der Taylorreihe berechnet. Verwenden Sie dazu die Fakultätsfunktion aus dem einführenden Beispiel (http://de.wikipedia.org/wiki/Sinus).\n",
    "\n",
    "$$ cos(x) = \\sum_{n = 0}^{\\infty} (-1)^n \\frac{x^{2n}}{(2n)!} = \\frac{x^0}{0!} - \\frac{x^2}{2!} + \\frac{x^4}{4!} - \\cdots $$\n",
    "\n",
    "Hinweis: Anstatt die Summe bis unendlich laufen zu lassen, brechen Sie sie nach einer bestimmten Anzahl an Wiederholungen ab, so dass nicht das exakte Ergebnis berechnet wird aber ein guter Näherungswert.\n",
    "\n",
    "**Aufgabe C**\n",
    "\n",
    "Erstellen Sie eine Python Zelle zur Berechnung der Fibonacci-Folge. Verwenden Sie dazu eine Rekursion."
   ]
  },
  {
   "cell_type": "markdown",
   "metadata": {},
   "source": [
    "## Computergrafik (2) - Floodfill\n",
    "\n",
    "Um in Bildern zusammenhängende Flächen mit einer Farbe auszufüllen, wird oft der Floodfill Algorithmus verwendet.\n",
    "\n",
    "![Floodfill](../bilder/Floodfill.gif)\n",
    "Quelle: Von André Karwath aka Aka - Eigenes Werk, CC BY-SA 2.5, https://commons.wikimedia.org/w/index.php?curid=481651\n",
    "\n",
    "Dem Algorithmus wird ein Bild in Form einer zweidimensionalen Liste, ein Startpunkt (x,y), die ursprüngliche Farbe der Fläche und die einzufüllende Farbe übergeben (Die Farbe ist hier entweder 0 für Weiß oder 1 für Schwarz).\n",
    "\n",
    "Die Funktionsdeklaration ist gegeben als:\n",
    "\n",
    "<code>def floodfill(bild, x, y, farbe_alt, farbe_neu):</code>\n",
    "\n",
    "Die Funktion soll das veränderte Bild zurückgeben, so dass ein Funktionsaufruf wie folgt aussieht:\n",
    "\n",
    "<code>bild_filled = floodfill(bild, 3, 4, 0, 1)</code>\n",
    "\n",
    "Zunächst soll die Funktion prüfen, ob das gegebene Pixel die Farbe <code>farbe_alt</code> hat. Falls nicht, gibt die Funktion einfach das unveränderte Bild zurück. (Abbruchbedingung der Rekursion)\n",
    "\n",
    "Falls das Pixel die alte Farbe hat, wird es mit der neuen Farbe eingefärbt und der Floodfill Algorithmus rekursiv jeweils für das Pixel unterhalb(y+1), oberhalb(y-1), links(x-1) und rechts(x+1) ausgeführt. Zuvor ist jeweils zu prüfen, ob die entsprechenden Pixel existieren. Ein Pixel ganz am linken Rand hat beispielsweise keinen linken Nachbarn.\n",
    "\n",
    "Um die gespeicherten Bilder anzuzeigen ist wieder die Funktion <code>plot_image()</code> gegeben.\n",
    "\n",
    "Vervollständigen Sie die gegebene Funktion <code>floodfill</code>."
   ]
  },
  {
   "cell_type": "code",
   "execution_count": null,
   "metadata": {},
   "outputs": [],
   "source": [
    "def plot_image(image):\n",
    "    print(\"┏\" + \"━\" * len(image[0]) * 2 + \"┓\")\n",
    "    for line in image:\n",
    "        print(\"┃\", end=\"\")\n",
    "        for pixel in line:\n",
    "            if pixel == 0:\n",
    "                print(\"  \", end=\"\")\n",
    "            else:\n",
    "                print(\"██\", end=\"\")\n",
    "        print(\"┃\")\n",
    "    print(\"┗\" + \"━\" * len(image[-1]) * 2 + \"┛\")\n",
    "\n",
    "\n",
    "def floodfill(bild, x, y, farbe_alt, farbe_neu):\n",
    "    # Abbruchbedingung hier prüfen\n",
    "    \n",
    "    # Pixel hier mit der neuen Farbe einfärben\n",
    "    \n",
    "    # Rekursionsschritt für unteres Pixel\n",
    "    \n",
    "    # Rekursionsschritt für oberes Pixel\n",
    "    \n",
    "    # Rekursionsschritt für linkes Pixel\n",
    "    \n",
    "    # Rekursionsschritt für rechtes Pixel\n",
    "    \n",
    "    # Bild zurückgeben\n",
    "    return bild\n",
    "\n",
    "\n",
    "# Funktion floodfill testen\n",
    "testbild = [[0, 0, 0, 1, 0, 0, 0],\n",
    "            [0, 0, 0, 1, 0, 0, 0],\n",
    "            [0, 0, 1, 0, 0, 0, 0],\n",
    "            [1, 1, 0, 0, 0, 1, 1],\n",
    "            [0, 0, 0, 0, 1, 0, 0],\n",
    "            [0, 0, 0, 1, 0, 0, 0],\n",
    "            [0, 0, 0, 1, 0, 0, 0]\n",
    "           ]\n",
    "\n",
    "print(\"Bild vor floodfill:\")\n",
    "plot_image(testbild)\n",
    "\n",
    "testbild_filled = floodfill(testbild, 3, 3, 0, 1)\n",
    "\n",
    "print(\"Bild nach floodfill:\")\n",
    "plot_image(testbild_filled)"
   ]
  },
  {
   "cell_type": "markdown",
   "metadata": {},
   "source": [
    "**Hinweis**\n",
    "\n",
    "Um zu sehen, wie der Algorithmus arbeitet (ähnlich dem gif weiter oben), können Sie in der Funktion floodfill direkt nach dem einfärben des Pixels das Bild als Zwischenergebnis mit plot_image ausgeben. Wenn die Funktion richtig arbeitet, erhalten Sie die Einzelbilder der Animation oben."
   ]
  }
 ],
 "metadata": {
  "kernelspec": {
   "display_name": "Python 3",
   "language": "python",
   "name": "python3"
  },
  "language_info": {
   "codemirror_mode": {
    "name": "ipython",
    "version": 3
   },
   "file_extension": ".py",
   "mimetype": "text/x-python",
   "name": "python",
   "nbconvert_exporter": "python",
   "pygments_lexer": "ipython3",
   "version": "3.5.2"
  }
 },
 "nbformat": 4,
 "nbformat_minor": 2
}
