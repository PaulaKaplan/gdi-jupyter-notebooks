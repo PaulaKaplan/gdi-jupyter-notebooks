{
 "cells": [
  {
   "cell_type": "markdown",
   "metadata": {},
   "source": [
    "# Rekursion und Iteration\n",
    "\n",
    "**Lernziele:**\n",
    "\n",
    "Nach Durcharbeiten des Tutoriums „Rekursion und Iteration“ sollen Sie in der Lage sein, ...\n",
    "- Funktionen aufzurufen\n",
    "- Fakultäten iterativ und rekursiv berechnen zu können.\n",
    "- den Unterschied zwischen Rekursion und Iteration erklären zu können.\n",
    "\n",
    "## Berechnung einer Fakultät\n",
    "\n",
    "Beispiele:\n",
    "\n",
    "$$ 5! = 1 \\cdot 2 \\cdot 3 \\cdot 4 \\cdot 5 = 120 $$\n",
    "\n",
    "$$ 6! = 1 \\cdot 2 \\cdot 3 \\cdot 4 \\cdot 5 \\cdot 6 = 720 $$\n",
    "\n",
    "Für die Berechnung stehen zwei Möglichkeiten zur Verfügung:\n",
    "\n",
    "1.) **Iteration**\n",
    "\n",
    "$$ n! = 1 \\cdot 2 \\cdot 3 \\dots \\cdot n = \\prod_{k = 1}^{n} k $$\n",
    "\n",
    "2.) **Rekursion**\n",
    "\n",
    "$$ n! = n \\cdot (n - 1)! $$\n",
    "\n",
    "In Python stehen dazu zwei Möglichkeiten zur Verfügung: die Iteration durch Verwendung einer\n",
    "Zählschleife (<code>for</code>) oder die Rekursion über einen Funktionsaufruf.\n",
    "\n",
    "## Lösungsansätze"
   ]
  },
  {
   "cell_type": "code",
   "execution_count": null,
   "metadata": {},
   "outputs": [],
   "source": [
    "# Fakultät iterativ berechnen\n",
    "def fakultät_iterativ(n):\n",
    "    f = 1\n",
    "    for i in range(1, n + 1):\n",
    "        f = f * i\n",
    "    return f"
   ]
  },
  {
   "cell_type": "code",
   "execution_count": null,
   "metadata": {},
   "outputs": [],
   "source": [
    "# Fakultät rekursiv berechnen\n",
    "def fakultät_rekursiv(n):\n",
    "    if (n == 0):\n",
    "        return 1\n",
    "    else:\n",
    "        return n * fakultät_rekursiv(n-1)"
   ]
  },
  {
   "cell_type": "code",
   "execution_count": null,
   "metadata": {},
   "outputs": [],
   "source": [
    "# beide Funktionen testen\n",
    "n = int(input(\"Bitte n eingeben: \"))\n",
    "\n",
    "f1 = fakultät_iterativ(n)\n",
    "f2 = fakultät_rekursiv(n)\n",
    "\n",
    "print(\"Die Fakultät von \" + str(n) + \" = \" + str(f1) + \" (iterativ)\")\n",
    "print(\"Die Fakultät von \" + str(n) + \" = \" + str(f2) + \" (rekursiv)\")"
   ]
  },
  {
   "cell_type": "markdown",
   "metadata": {},
   "source": [
    "## Weitere Aufgaben\n",
    "\n",
    "Die Aufgaben A und B dienen der Übung.\n",
    "\n",
    "Die Aufgabe C ist interessant, aber mathematisch etwas anspruchsvoll – versuchen Sie es einfach!\n",
    "\n",
    "**Aufgabe A**\n",
    "\n",
    "Formulieren Sie die Aufgaben A bis C des Tutoriums „Schleifen“ (4) als Rekursion.\n",
    "\n",
    "**Aufgabe B**\n",
    "\n",
    "Erstellen Sie eine Python Zelle, die den Wert des Cosinus mit Hilfe der Taylorreihe berechnet. Verwenden Sie dazu die Fakultätsfunktion aus dem einführenden Beispiel (http://de.wikipedia.org/wiki/Sinus).\n",
    "\n",
    "$$ cos(x) = \\sum_{n = 0}^{\\infty} (-1)^n \\frac{x^{2n}}{(2n)!} = \\frac{x^0}{0!} - \\frac{x^2}{2!} + \\frac{x^4}{4!} - \\cdots $$\n",
    "\n",
    "Hinweis: Anstatt die Summe bis unendlich laufen zu lassen, brechen Sie sie nach einer bestimmten Anzahl an Wiederholungen ab, so dass nicht das exakte Ergebnis berechnet wird aber ein guter Näherungswert.\n",
    "\n",
    "**Aufgabe C**\n",
    "\n",
    "Erstellen Sie eine Python Zelle zur Berechnung der Fibonacci-Folge. Verwenden Sie dazu eine Rekursion."
   ]
  }
 ],
 "metadata": {
  "kernelspec": {
   "display_name": "Python 3",
   "language": "python",
   "name": "python3"
  },
  "language_info": {
   "codemirror_mode": {
    "name": "ipython",
    "version": 3
   },
   "file_extension": ".py",
   "mimetype": "text/x-python",
   "name": "python",
   "nbconvert_exporter": "python",
   "pygments_lexer": "ipython3",
   "version": "3.5.2"
  }
 },
 "nbformat": 4,
 "nbformat_minor": 2
}
