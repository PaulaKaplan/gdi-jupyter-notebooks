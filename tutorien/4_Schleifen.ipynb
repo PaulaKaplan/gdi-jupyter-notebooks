{
 "cells": [
  {
   "cell_type": "markdown",
   "metadata": {},
   "source": [
    "# 4 Schleifen\n",
    "**Lernziele:**\n",
    "\n",
    "Nach Durcharbeiten des Tutoriums „Schleifen“ sollen Sie in der Lage sein, ...\n",
    "- zu erklären, was unter „Schleifen“ zu verstehen ist und welchen Zweck diese erfüllen.\n",
    "- <code>for</code> ... <code>in</code> ... Schleifen korrekt in Python anzuwenden.\n",
    "- den Zusammenhang von mathematischen Summen und Python-Schleifen erklären und gegebene Summen in Schleifen „übersetzen“ zu können.\n",
    "\n",
    "## Berechnung von Summen\n",
    "### Einführendes Beispiel\n",
    "**Aufgabe:** Erstellen Sie einen Python Code, die folgende Summe berechnet:\n",
    "\n",
    "$$ s = \\sum_{i = 1}^{n} i = 1 + 2 + 3 + \\dots + n $$"
   ]
  },
  {
   "cell_type": "code",
   "execution_count": null,
   "metadata": {},
   "outputs": [],
   "source": [
    "# parameter angeben\n",
    "n = int(input(\"Bitte Obere Grenze eingeben: \"))\n",
    "\n",
    "# Summe berechnen\n",
    "\n",
    "# Ergebnis ausgeben\n",
    "print(\"Das Ergebnis ist s=\" + str(s) + \".\")"
   ]
  },
  {
   "cell_type": "markdown",
   "metadata": {},
   "source": [
    "**Lösung**"
   ]
  },
  {
   "cell_type": "code",
   "execution_count": null,
   "metadata": {},
   "outputs": [],
   "source": [
    "# parameter angeben\n",
    "n = int(input(\"Bitte Obere Grenze eingeben: \"))\n",
    "\n",
    "# Summe berechnen\n",
    "s = 0\n",
    "for i in range(1, n + 1):\n",
    "    s = s + i\n",
    "\n",
    "# Ergebnis ausgeben\n",
    "print(\"Das Ergebnis ist s=\" + str(s) + \".\")"
   ]
  },
  {
   "cell_type": "markdown",
   "metadata": {},
   "source": [
    "**Gedankliche Umformung**\n",
    "\n",
    "$$ s = \\sum_{i = 1}^{n} i = 1 + 2 + 3 + \\dots + n $$\n",
    "\n",
    "Somit werden n Additionen ausgeführt. Die Variable i wird auch als Laufvariable bezeichnet.\n",
    "Pro Durchlauf der Schleife werden immer 2 Aktionen ausgeführt:\n",
    "- der Wert der bisherigen Summe (<code>s</code>) wird mit dem aktuellen Wert von <code>i</code> addiert.\n",
    "- der nächste Wert wird aus dem iterator geholt, der von <code>range()</code> zurückgegeben wird und in <code>i</code> gespeichert.\n",
    "\n",
    "Die initialisierung für <code>s = 0</code> wird benötigt, damit die Variable <code>s</code> bereits im erten Schleifendurchlauf einen Wert enthält. Ohne diese Initialisierung würde die Anweisung <code>s = s + 1</code> beim ersten Schleifendurchlauf scheitern, da die Variable <code>s</code> nicht existiert und damit auch kein Wert darin gespeichert ist.\n",
    "\n",
    "### Weitere Aufgaben\n",
    "Schreiben Sie jeweils eine Python Zelle, die folgenden Summenwerte berechnet:\n",
    "\n",
    "**Aufgabe A:**\n",
    "\n",
    "$$ s = \\sum_{i = 1}^{n} i^{2} = 1^2 + 2^2 + \\dots + n^2 $$\n",
    "\n",
    "**Aufgabe B:**\n",
    "\n",
    "$$ s = \\sum_{i = 0}^{n - 1} k^i = k^0 + k^1 + \\dots + k^{n-1} $$\n",
    "\n",
    "**Aufgabe C:**\n",
    "\n",
    "$$ s = \\sum_{i = 1}^{n} \\frac{1}{i} = \\frac{1}{1} + \\frac{1}{2} + \\dots + \\frac{1}{n} $$"
   ]
  },
  {
   "cell_type": "code",
   "execution_count": null,
   "metadata": {},
   "outputs": [],
   "source": []
  }
 ],
 "metadata": {
  "kernelspec": {
   "display_name": "Python 3",
   "language": "python",
   "name": "python3"
  },
  "language_info": {
   "codemirror_mode": {
    "name": "ipython",
    "version": 3
   },
   "file_extension": ".py",
   "mimetype": "text/x-python",
   "name": "python",
   "nbconvert_exporter": "python",
   "pygments_lexer": "ipython3",
   "version": "3.5.2"
  }
 },
 "nbformat": 4,
 "nbformat_minor": 2
}
