{
 "cells": [
  {
   "cell_type": "markdown",
   "metadata": {},
   "source": [
    "# 1. Datentypen\n",
    "## Lernziele:\n",
    "Nach Durcharbeiten des Tutoriums „Datentypen“ sollen Sie in der Lage sein,\n",
    "* die Grundrechenarten für Zahlen in Python einzugeben und mit ihnen zu rechnen.\n",
    "* einfache Textoperationen durchführen zu können.\n",
    "\n",
    "## Grundrechenarten\n",
    "Gegeben ist folgender Python code:"
   ]
  },
  {
   "cell_type": "code",
   "execution_count": null,
   "metadata": {},
   "outputs": [],
   "source": [
    "# hier verschiedene Konstanten ausprobieren (int, float, boolean, string)\n",
    "a = 6\n",
    "b = 3\n",
    "\n",
    "print(\"Eingabe:\")\n",
    "print(\"    a : \", end=\"\")\n",
    "print(type(a), end=\"\")\n",
    "print(\", \", end=\"\")\n",
    "print(a)\n",
    "print(\"    b : \", end=\"\")\n",
    "print(type(b), end=\"\")\n",
    "print(\", \", end=\"\")\n",
    "print(b)\n",
    "\n",
    "# hier verschiedene Grundrechenarten ausprobieren (+, -, *, /, ...)\n",
    "c = a + b\n",
    "\n",
    "print(\"Ausgabe:\")\n",
    "print(\"    c : \", end=\"\")\n",
    "print(type(c), end=\"\")\n",
    "print(\", \", end=\"\")\n",
    "print(c)"
   ]
  },
  {
   "cell_type": "markdown",
   "metadata": {},
   "source": [
    "Die Funktion <code>print()</code> erzeugt am Ende der Ausgabe immer eine neue Zeile. Möchte man das unterdrücken, muss man den Parameter <code>end</code> übergeben. Wie Funktionen genau funktionieren, werden wir noch in den nächsten Tutorien lernen.\n",
    "\n",
    "## Aufgabe 1-A:\n",
    "Versuchen Sie verschiedene Zuweisungen für die Variablen a und b am Anfang des Codes: Probieren Sie nacheinander, beiden Variablen Werte vom Typ Integer, Float, String und Boolean zuzuweisen.\n",
    "\n",
    "## Aufgabe 1-B:\n",
    "Weisen Sie a und b Daten unterschiedlichen Typs zu.\n",
    "\n",
    "Prüfen Sie jeweils das Ergebnis kritisch und erläutern Sie, warum Sie mit diesem Ergebnis gerechnet haben oder nicht.\n",
    "\n",
    "## Aufgabe 1-C:\n",
    "Verwenden Sie statt a + b (Addition) die anderen Grundrechenarten. Wiederholen Sie die verschiedenen Zuweisungen von Aufgaben A und B. Was fällt Ihnen dabei auf?\n",
    "\n",
    "**Hinweis:** Erstellen Sie für jede Grundrechenart eine Tabelle für die verschiedenen Datentypen von <code>a</code> und <code>b</code>:\n",
    "\n",
    "<pre>\n",
    "| Addition(+) |   int   |  float  | boolean | string  |\n",
    "|-------------|---------|---------|---------|---------|\n",
    "| int         |         |         |         |         |\n",
    "| float       |         |         |         |         |\n",
    "| boolean     |         |         |         |         |\n",
    "| string      |         |         |         |         |\n",
    "</pre>"
   ]
  }
 ],
 "metadata": {
  "kernelspec": {
   "display_name": "Python 3",
   "language": "python",
   "name": "python3"
  },
  "language_info": {
   "codemirror_mode": {
    "name": "ipython",
    "version": 3
   },
   "file_extension": ".py",
   "mimetype": "text/x-python",
   "name": "python",
   "nbconvert_exporter": "python",
   "pygments_lexer": "ipython3",
   "version": "3.5.2"
  }
 },
 "nbformat": 4,
 "nbformat_minor": 2
}
