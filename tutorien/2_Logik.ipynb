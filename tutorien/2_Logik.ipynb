{
 "cells": [
  {
   "cell_type": "markdown",
   "metadata": {},
   "source": [
    "# 2 Logik\n",
    "**Lernziele:**\n",
    "Nach Durcharbeiten des Tutoriums „Logik“ sollen Sie in der Lage sein, ...\n",
    "* die Bedeutung der logischen Ausdrücke – vor allem der Operatoren And, Or und Not – zu erklären und in Python anwenden zu können.\n",
    "* logische Verzweigungen mit <code>if ... else</code> anhand eines Beispiels zu beschreiben und in Python zielgerichtet anzuwenden.\n",
    "* das Zusammenspiel von logischen Ausdrücken und logischen Verzweigungen in Python-Programmen erklären und anwenden zu können.\n",
    "* den Datentyp Boolean und die Wahrheitswerte <code>True</code> und <code>False</code> erklären und in Python anwenden zu können.\n",
    "\n",
    "## Einführung\n",
    "Logische Ausdrücke beantworten immer eine Frage in der Form „Ist ... ?“ eindeutig mit JA <code>True</code>\n",
    "oder NEIN <code>False</code>. Dazu werden i.d.R. mathematische Vergleiche angestellt, d.h. es werden die\n",
    "mathematischen Operatoren &lt;, ≤, =, ≥ und &gt; verwendet.\n",
    "\n",
    "**Beispiel:** Der Ausdruck <code>2&lt;3</code> ist wahr, der Ausdruck <code>2&gt;3</code> ist falsch. In der Programmierung arbeitet man mit Variablen, d.h. der logische Ausdruck lautet z.B. <code>a&lt;b</code>. Ob das Ergebnis eines logischen Ausdrucks dann True oder False ist, hängt folglich von der konkreten Wertebelegung der Variablen a und b ab. Einige Beispiele sehen Sie in der folgenden Tabelle:\n",
    "\n",
    "a  | b | a&lt;b\n",
    "---|---|--------\n",
    "1  | 2 | True\n",
    "2  | 1 | False\n",
    "-1 | 5 | True\n",
    "2  | 0 | False\n",
    "2  | 2 | False\n",
    "\n",
    "Das Ergebnis eines logischen Ausdrucks kann in einer Variablen vom Typ Boolean gespeichert werden. Logische Ausdrücke können verknüpft werden. Dazu stehen die Operatoren <code>and</code>, <code>or</code> und <code>not</code> zur Verfügung. Weiterhin werden logische Ausdrücke durch Klammern <code>(</code> und <code>)</code> voneinander getrennt. Es gilt: Jeder logische Ausdruck besteht immer aus zwei Operanden (in der Tabelle oben zum Beispiel <code>a</code> und <code>b</code>) und einem logischen Operator (in der Tabelle oben <code>&lt;</code>).\n",
    "\n",
    "Zusammengesetzte logische Ausdrücke bestehen immer aus vollständigen logischen Ausdrücken, die mit den logischen Operatoren verknüpft werden. Ein Beispiel für zusammengesetzte logische Ausdrücke aus der Mathematik sind Bereiche:\n",
    "\n",
    "Frage                          | Ausdruck in Python\n",
    "-------------------------------|----------------------------------------------------------------------------------\n",
    "Ist x im Bereich von [a,b]?    | <code>(a&lt;=x) and (x&lt;=b)</code>\n",
    "Ist x im Bereich von ]a,b]?    | <code>(a&lt;x) and (x&lt;=b)</code>\n",
    "Ist x außerhalb von [a,b]?     | <code>not ((a&lt;=x) and (x&lt;=b))</code><br>oder<br><code>(x&lt;a) or (b&lt;x)</code>\n",
    "\n",
    "**Hinweis:** Die Klammern () sind nicht erforderlich, sie erleichtern aber die Lesbarkeit und reduzieren somit die Fehleranfälligkeit – das gilt auch für die Klausur!\n",
    "\n",
    "**Achtung:** In Python verwendet man für den mathematischen Operator ≤ den Ausdruck <code>&lt;=</code> und\n",
    "umgekehrt. Der Gleichheitsoperator wird <code>==</code> geschrieben. Das Zeichen <code>=</code> alleine ist immer der Zuweisungsoperator! (Weitere Infos zu Python Vergleichsoperatoren gibt es auf https://docs.python.org/3/library/stdtypes.html#comparisons)\n",
    "\n",
    "## Einführendes Beispiel: Positionsbestimmungen\n",
    "**Aufgabe:** Erstellen Sie einen Python Code, in dem bestimmt werden soll, ob sich der Wert für x in einem Bereich von [a, b], mit a&lt;b befindet. Es soll geprüft werden, ob die eingegebenen Bereichsgrenzen gültig sind! Der Wert von x soll erst dann eingeben werden, wenn ein gültiger Bereich vorliegt."
   ]
  },
  {
   "cell_type": "code",
   "execution_count": null,
   "metadata": {},
   "outputs": [],
   "source": [
    "# Eingabe des Bereichs [a, b]:\n"
   ]
  },
  {
   "cell_type": "code",
   "execution_count": null,
   "metadata": {},
   "outputs": [],
   "source": [
    "# Prüfe, ob die Bereichsgrenzen gültig sind:\n"
   ]
  },
  {
   "cell_type": "code",
   "execution_count": null,
   "metadata": {},
   "outputs": [],
   "source": [
    "# Eingabe von x:\n"
   ]
  },
  {
   "cell_type": "code",
   "execution_count": null,
   "metadata": {},
   "outputs": [],
   "source": [
    "# Prüfe, ob x im Bereich [a, b] liegt:\n"
   ]
  },
  {
   "cell_type": "markdown",
   "metadata": {},
   "source": [
    "**Lösung:**"
   ]
  },
  {
   "cell_type": "code",
   "execution_count": null,
   "metadata": {},
   "outputs": [],
   "source": [
    "# Eingabe des Bereichs [a, b]:\n",
    "a = 3\n",
    "b = 10"
   ]
  },
  {
   "cell_type": "code",
   "execution_count": null,
   "metadata": {},
   "outputs": [],
   "source": [
    "# Prüfe, ob die Bereichsgrenzen gültig sind:\n",
    "if a < b:\n",
    "    print(\"Bereichsgrenzen gültig!\")\n",
    "else:\n",
    "    print(\"Bereichsgrenzen ungültig! Bitte neue Werte eingeben.\")"
   ]
  },
  {
   "cell_type": "code",
   "execution_count": null,
   "metadata": {},
   "outputs": [],
   "source": [
    "# Eingabe von x:\n",
    "x = 5"
   ]
  },
  {
   "cell_type": "code",
   "execution_count": null,
   "metadata": {},
   "outputs": [],
   "source": [
    "# Prüfe, ob x im Bereich [a, b] liegt:\n",
    "if (a <= x) and (x <= b):\n",
    "    print(str(x) + \" liegt im Bereich [\" + str(a) + \", \" + str(b) + \"]\")\n",
    "else:\n",
    "    print(str(x) + \" liegt nicht im Bereich [\" + str(a) + \", \" + str(b) + \"]\")"
   ]
  },
  {
   "cell_type": "markdown",
   "metadata": {},
   "source": [
    "**Alternative:**\n",
    "Verwenden Sie eine weitere Variable <code>test</code> vom Typ Boolean:\n",
    "<code>test = (a &lt; b)</code>\n",
    "<code>if test: ...</code>\n",
    "oder\n",
    "<code>if test==True: ...</code>"
   ]
  },
  {
   "cell_type": "markdown",
   "metadata": {},
   "source": [
    "## Weitere Aufgaben\n",
    "Schreiben Sie jeweils Python Code, der überprüft, ob sich der Wert von x im entsprechenden Bereich befindet oder nicht.\n",
    "\n",
    "**Aufgabe 2-A**\n",
    "Der Wert von x soll innerhalb des Bereichs ]a, b[ liegen.\n",
    "\n",
    "**Aufgabe 2-B**\n",
    "Der Wert von x soll außerhalb des Bereichs [a, b] liegen.\n",
    "\n",
    "**Aufgabe 2-C**\n",
    "Der Wert von x soll größer als 0 sein und innerhalb des Bereichs [a, b] liegen.\n",
    "\n",
    "**Aufgabe 2-D**\n",
    "Der Wert von x soll innerhalb des Bereichs [a, b] oder [-b, -a] liegen.\n",
    "Option: An Stelle der Bereichsprüfung soll für a der kleinere der beiden eingegebenen Werte verwendet werden."
   ]
  }
 ],
 "metadata": {
  "kernelspec": {
   "display_name": "Python 3",
   "language": "python",
   "name": "python3"
  },
  "language_info": {
   "codemirror_mode": {
    "name": "ipython",
    "version": 3
   },
   "file_extension": ".py",
   "mimetype": "text/x-python",
   "name": "python",
   "nbconvert_exporter": "python",
   "pygments_lexer": "ipython3",
   "version": "3.5.2"
  }
 },
 "nbformat": 4,
 "nbformat_minor": 2
}
