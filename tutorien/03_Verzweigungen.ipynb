{
 "cells": [
  {
   "cell_type": "markdown",
   "metadata": {},
   "source": [
    "# 3 Verzweigungen\n",
    "**Lernziele:**\n",
    "Nach Durcharbeiten des Tutoriums „Verzweigungen und Auswahl“ sollen Sie in der Lage sein, ...\n",
    "* die Verzweigungen (<code>if</code> ... <code>elif</code> ... <code>else</code> ...) anhand eines Beispiels erklären und diese in Python korrekt anwenden zu können\n",
    "\n",
    "## Einführung\n",
    "Eine Verzweigung wertet immer einen logischen Ausdruck aus. Für komplexe Fragestellungen lassen sich mehrere Verzweigungen miteinander verknüpfen. Es entstehen Abfolgen von Verzweigungen <code>if</code> ... <code>elif</code> ... <code>else</code> ... .\n",
    "\n",
    "**Achtung:** In Python gibt es keine Auswahl wie in anderen Sprachen durch <code>Select</code> und <code>Case</code>.\n",
    "\n",
    "## Noten und Bewertungen\n",
    "\n",
    "### Einführendes Beispiel\n",
    "**Aufgabe:** Eine Schulnote soll in einen Text umgewandelt werden:"
   ]
  },
  {
   "cell_type": "code",
   "execution_count": null,
   "metadata": {},
   "outputs": [],
   "source": [
    "# gegebene Note:\n",
    "note = int(input(\"Bitte Note eingeben: \"))\n",
    "\n",
    "# Note in Text umwandeln:\n",
    "\n",
    "\n",
    "# Text ausgeben:\n",
    "print(\"Die Leistung ist \" + text + \".\")"
   ]
  },
  {
   "cell_type": "markdown",
   "metadata": {},
   "source": [
    "**Lösung**"
   ]
  },
  {
   "cell_type": "code",
   "execution_count": null,
   "metadata": {},
   "outputs": [],
   "source": [
    "# gegebene Note:\n",
    "note = int(input(\"Bitte Note eingeben: \"))\n",
    "\n",
    "# Note in Text umwandeln:\n",
    "if (note == 1):\n",
    "    text=\"sehr gut!\"\n",
    "elif (note == 2):\n",
    "    text=\"gut\"\n",
    "elif (note == 3):\n",
    "    text=\"befriedigend\"\n",
    "elif (note == 4):\n",
    "    text=\"ausreichend\"\n",
    "elif (note == 5):\n",
    "    text=\"mangelhaft\"\n",
    "elif (note == 6):\n",
    "    text=\"ungenügend\"\n",
    "else:\n",
    "    text=\"ungültig\"\n",
    "\n",
    "# Text ausgeben:\n",
    "print(\"Die Leistung ist \" + text + \".\")"
   ]
  },
  {
   "cell_type": "markdown",
   "metadata": {},
   "source": [
    "### Weitere Aufgaben\n",
    "Schreiben Sie jeweils einen Python code, der eine Note (Zahl) in einen Bewertungstext umwandelt.\n",
    "\n",
    "**Aufgabe 3-A**\n",
    "\n",
    "Wenn eine Schulnote 4 oder besser ist, dann gilt eine Leistung als „belegt“, sonst als „nicht belegt“.\n",
    "\n",
    "**Aufgabe 3-B**\n",
    "\n",
    "Wandeln Sie die Klausurzensuren, die Sie hier an der HM erhalten in entsprechende Texte um (siehe Tabelle).\n",
    "\n",
    "Note(n)        | Text\n",
    "---------------|-----------------\n",
    "1,0; 1,3       | Sehr gut\n",
    "1,7; 2,0; 2,3  | Gut\n",
    "2,7; 3,0; 3,3  | Befriedigend\n",
    "3,7; 4,0       | Ausreichend\n",
    "5,0            | Nicht bestanden\n",
    "\n",
    "**Aufgabe 3-C**\n",
    "\n",
    "Erstellen Sie eine Umwandlung von Punkten in Noten (rein hypothetische Tabelle!!!).\n",
    "\n",
    "Punkte | Note\n",
    "-------|------\n",
    "0-48   | 5,0\n",
    "49-56  | 4,0\n",
    "57-69  | 3,0\n",
    "70-81  | 2,0\n",
    "&gt;81 | 1,0\n",
    "\n",
    "**Aufgabe 3-D**\n",
    "\n",
    "Stellen Sie fest, ob es sich bei einem einzelnen eingegebenen Zeichen um eine Ziffer [0-9] handelt oder um ein beliebiges anderes Zeichen.\n",
    "\n",
    "Jedes Zeichen wird intern vom Computer als eine Zahl gespeichert. Welches Zeichen als welche Zahl gespeichert wird, wird durch verschiedene Codierungstabellen festgelegt. Besonders bekannte sind die ASCII Tabelle ( http://www.asciitable.com/ ) und die Unicode Tabelle ( https://unicode-table.com/en/ ). Diese beiden Tabellen sind im unteren Bereich gleich (die Unicode Tabelle umfasst viel mehr Zeichen). Diese beiden Tabellen werden wir auch in der Vorlesung noch kennen lernen.\n",
    "\n",
    "Um ein Zeichen in seine Unicode Repräsentation umzuwandeln, können Sie die Funktion <code>ord()</code> benutzen ( https://docs.python.org/3/library/functions.html#ord )."
   ]
  }
 ],
 "metadata": {
  "kernelspec": {
   "display_name": "Python 3",
   "language": "python",
   "name": "python3"
  },
  "language_info": {
   "codemirror_mode": {
    "name": "ipython",
    "version": 3
   },
   "file_extension": ".py",
   "mimetype": "text/x-python",
   "name": "python",
   "nbconvert_exporter": "python",
   "pygments_lexer": "ipython3",
   "version": "3.5.2"
  }
 },
 "nbformat": 4,
 "nbformat_minor": 2
}
