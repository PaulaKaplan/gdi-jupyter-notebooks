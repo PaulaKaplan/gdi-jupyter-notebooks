{
 "cells": [
  {
   "cell_type": "markdown",
   "metadata": {},
   "source": [
    "# 5 Listen (Arrays)\n",
    "**Lernziele:**\n",
    "\n",
    "Nach Durcharbeiten des Tutoriums „Listen (Arrays)“ sollen Sie in der Lage sein, ...\n",
    "- den Nutzen und die Funktion von Feldern in eigenen Worten erklären zu können.\n",
    "- den Zusammenhang von Feldern mit Vektoren und Matrizen in der Mathematik zu beschreiben.\n",
    "- „Felder“ richtig anzuwenden.\n",
    "- das EVA-Prinzip in eigenen Worten erklären zu können.\n",
    "\n",
    "In Python werden Felder Listen genannt.\n",
    "\n",
    "## Einführung\n",
    "Zu Beginn ein paar grundlegende Feststellungen:\n",
    "- Um ein Programm auszuführen, muss es in den Arbeitsspeicher (RAM) eines Rechners geladen werden.\n",
    "- Ein Programm besteht aus der Abfolge der Befehle und den Variablen.\n",
    "- Folglich muss sich jede Variable eines Programms im Arbeitsspeicher des Rechners befinden oder anders ausgedrückt: Jede Variable belegt im Arbeitsspeicher Speicherplatz.\n",
    "\n",
    "Jede Variable besitzt im Sinne des Programms einen bestimmten Zweck, z.B. zur Berechnung einer Rechteckfläche A werden Länge l und Breite b benötigt:"
   ]
  },
  {
   "cell_type": "code",
   "execution_count": null,
   "metadata": {},
   "outputs": [],
   "source": [
    "l = 12\n",
    "b = 15\n",
    "\n",
    "A = l * b\n",
    "\n",
    "print(\"Die Fläche beträgt \" + str(A))"
   ]
  },
  {
   "cell_type": "markdown",
   "metadata": {},
   "source": [
    "Die Namen der Variablen sollten sich dabei i.d.R. nach dem Zweck orientieren, dies fördert die Lesbarkeit von Programmcode. Für Aufgabenstellungen, die viele Variablen benötigen, entsteht so schnell das Problem, das die Menge der sinnvollen Namen begrenzt ist. Ein Trick könnte sein, die Variablen „durchzunummerieren“.\n",
    "\n",
    "Ein Programm soll den Flächeninhalt von zwei Rechtecken A1 und A2 berechnen. Entsprechend würden die zugehörigen Variablen l1 und b1 sowie l2 und b2 heißen:"
   ]
  },
  {
   "cell_type": "code",
   "execution_count": null,
   "metadata": {},
   "outputs": [],
   "source": [
    "l1 = 12\n",
    "b1 = 15\n",
    "\n",
    "l2 = 3\n",
    "b2 = 20\n",
    "\n",
    "A1 = l1 * b1\n",
    "A2 = l2 * b2\n",
    "\n",
    "print(\"Die Fläche von Rechteck 1 beträgt \" + str(A1))\n",
    "print(\"Die Fläche von Rechteck 2 beträgt \" + str(A2))"
   ]
  },
  {
   "cell_type": "markdown",
   "metadata": {},
   "source": [
    "Es ist sofort ersichtlich, dass ein solcher Ansatz zwei entscheidende Nachteile hat:\n",
    "- Ändert sich die Anzahl der zu berechnenden Rechtecke, so muss man das Programm an mehreren Stellen ändern.\n",
    "- Die Berechnungslogik muss sooft implementiert werden, wie Rechtecke berechnet werden sollen. Man stelle sich vor, das Programm soll plötzlich statt der Fläche eines Rechtecks das Volumen eines Quaders berechnen, so müssten viele Zeilen geändert werden.\n",
    "\n",
    "**Jede Änderung an einem Programmcode ist nicht nur aufwendig, sondern auch fehleranfällig.**\n",
    "\n",
    "Abhilfe schaffen hier Listen. Statt 6 Variablen werden jetzt nur 3 Listen A, l und b definiert. Jede Liste beinhaltet 2 Variablen, auf die über einen Index zugegriffen werden kann. Der Index wird i.d.R. als Variable vom Typ integer realisiert, im Beispiel i."
   ]
  },
  {
   "cell_type": "code",
   "execution_count": null,
   "metadata": {},
   "outputs": [],
   "source": [
    "# Eingabe\n",
    "l = [12, 3]\n",
    "b = [15, 20]\n",
    "A = [0, 0]\n",
    "\n",
    "# Verarbeitung\n",
    "for i in range(2):\n",
    "    A[i] = l[i] * b[i]\n",
    "    \n",
    "# Ausgabe\n",
    "for i in range(2):\n",
    "    print(\"Die Fläche von Rechteck \" + str(i + 1) + \" beträgt \" + str(A[i]))"
   ]
  },
  {
   "cell_type": "markdown",
   "metadata": {},
   "source": [
    "Der entscheidende Vorteil der Listen ergibt sich, wenn man sie mit Schleifen verbindet. Über die Zählschleife lässt sich mit der Zählvariablen auf jeweils eine Variable der Liste zugreifen.\n",
    "\n",
    "Gegenüber der obigen Lösung müssen die „funktionalen“ Programmteile jeweils nur einmal programmiert – und ggf. später geändert werden.\n",
    "- Eingabe der Werte\n",
    "- Flächenberechnung\n",
    "- Ausgabe der Werte\n",
    "\n",
    "Listen lassen sich also gut verwenden, wenn man eine Menge von Variablen benötigt, die eine gleiche Bedeutung haben. Eine weitere Anwendung von Listen sind aus der Mathematik bekannt: Vektoren und Matrizen.\n",
    "\n",
    "**Fragestellung:**\n",
    "\n",
    "Warum werden im Beispiel drei Schleifen verwendet? Es wäre doch auch möglich, alles in einer Schleife zu realisieren – das wäre doch viel weniger Programmcode.\n",
    "\n",
    "**Antwort:**\n",
    "\n",
    "Das EVA-Prinzip sieht eine konsequente Trennung von Programmcode in die 3 Bereiche Eingabe-Verarbeitung-Ausgabe vor. Dies bedeutet, dass ein Programm, auch wenn es funktional dasselbe macht, das EVA-Prinzip mehr oder weniger „gut“ umsetzt. In diesem Zusammenhang spricht man auch gerne vom Programmierstil, das dargestellte Beispiel besitzt im Sinne  des EVA-Prinzips einen „guten“ Programmierstil.\n",
    "\n",
    "**Aufgabe A**\n",
    "\n",
    "Verändern Sie das obige Beispiel so, dass statt 2 nun 5 Rechtecke berechnet werden sollen. Was fällt Ihnen dabei auf? Wie viele Zeilen mussten dazu geändert werden? Durch welche Änderung am Programmcode könnte man die Anzahl der Zeilen reduzieren, die geändert werden müssen?\n",
    "\n",
    "## Berechnung von Teilern und Primzahlen\n",
    "Ein Programm soll für eine beliebige Zahl n alle Teiler bestimmen, aber nur die ersten 5 speichern und später ausgeben. Das Programm soll die Gesamtzahl der ermittelten Teiler ausgeben sowie jeden Teiler, maximal aber 5."
   ]
  },
  {
   "cell_type": "code",
   "execution_count": null,
   "metadata": {},
   "outputs": [],
   "source": [
    "# in dieser Liste sollen später die gefundenen Teiler gespeichert werden\n",
    "teiler = [0 for i in range(5)]\n",
    "\n",
    "# Die zu untersuchende Zahl\n",
    "n = 255255\n",
    "\n",
    "nGefundeneTeiler = 0\n",
    "# alle Zahlen von 1 bis n ausprobieren\n",
    "for i in range(1, n + 1):\n",
    "    # ist n durch i ohne Rest teilbar?\n",
    "    if n % i == 0:\n",
    "        if nGefundeneTeiler < 5:\n",
    "            teiler[nGefundeneTeiler] = i\n",
    "        nGefundeneTeiler = nGefundeneTeiler + 1        \n",
    "print(\"Es wurden \" + str(nGefundeneTeiler) + \" Teiler gefunden.\")\n",
    "\n",
    "# alle gefundenen Teiler aber maximal 5 ausgeben\n",
    "if nGefundeneTeiler > 5:\n",
    "    k = 5\n",
    "else:\n",
    "    k = nGefundeneTeiler\n",
    "print(\"Es werden die ersten \" + str(k) + \" Teiler ausgegeben.\")\n",
    "\n",
    "for i in range(k):\n",
    "    print(str(i+1) + \"-ter Teiler = \" + str(teiler[i]))"
   ]
  },
  {
   "cell_type": "markdown",
   "metadata": {},
   "source": [
    "## Weitere Aufgaben\n",
    "\n",
    "**Aufgabe B**\n",
    "\n",
    "Wie müsste man das obige Programm ändern, wenn man bestimmen möchte, ob n eine Primzahl ist?\n",
    "\n",
    "**Aufgabe C**\n",
    "\n",
    "Wie müsste man das obige Programm ändern, wenn man die ersten 5 Primzahlen zwischen 1 und n bestimmen möchte?\n",
    "\n",
    "**Aufgabe D**\n",
    "\n",
    "Es ist ein Programm gegeben, das Lottozahlen berechnet und analysiert, d.h. die größte und die kleinste Zahl berechnet.\n",
    "- Geben Sie alle Zahlen mittels einer print Anweisung in einer Schleife aus.\n",
    "- Wie muss das Programm geändert werden, damit es verhindert, dass keine Zahl doppelt vorkommt? (Tipp: Erhöhen Sie die Zahl der gezogenen Zahlen – Was fällt Ihnen dabei ggf. auf?)\n",
    "- Zusatzaufgabe: Sortieren Sie die Zahlen in aufsteigender Reihenfolge, bevor sie ausgeben werden.\n",
    "\n",
    "Die erste Zeile <code>from random import randint</code> sorgt dafür, dass die Funktion <code>randint</code> aus der Bibliothek <code>random</code> im code verwendet werden kann. Sie ist nicht standartmäßig Teil der Sprache Python und muss daher importiert werden.\n",
    "\n",
    "<code>randint(a, b)</code> erzeugt eine zufällige Zahl vom Typ Integer, die im Bereich [a, b] liegt."
   ]
  },
  {
   "cell_type": "code",
   "execution_count": null,
   "metadata": {},
   "outputs": [],
   "source": [
    "from random import randint\n",
    "\n",
    "# Liste für die Zufallszahlen vorbereiten\n",
    "zahlen = [0 for i in range(6)]\n",
    "\n",
    "# 6 Zufallszahlen ziehen\n",
    "for i in range(6):\n",
    "    zahlen[i] = randint(1, 49)\n",
    "\n",
    "# Zahlen analysieren\n",
    "minimalwert = 50\n",
    "maximalwert = 0\n",
    "for i in range(6):\n",
    "    if zahlen[i] > maximalwert:\n",
    "        maximalwert = zahlen[i]  \n",
    "    if zahlen[i] < minimalwert:\n",
    "        minimalwert = zahlen[i]\n",
    "\n",
    "# Ergebnis ausgeben\n",
    "print(\"Die kleinste Zahl ist \" + str(minimalwert) + \".\")\n",
    "print(\"Die größte Zahl ist \" + str(maximalwert) + \".\")"
   ]
  },
  {
   "cell_type": "markdown",
   "metadata": {},
   "source": [
    "**Aufgabe E**\n",
    "\n",
    "Listen gibt es auch mit 2 Dimensionen – wie eine Tabelle. 1-dimensionale Listen sind Vektoren, 2-dimensionale Listen sind Matrizen.\n",
    "\n",
    "In einer 2-dimensionalen Liste sind Verkaufszahlen angegeben: Pro Region und Quartal. Schreiben Sie je eine Python Zelle, die folgende Kennzahlen berechnet:\n",
    "- das Quartal mit dem größten Umsatz über alle Regionen\n",
    "- die Region mit dem größten Umsatz über alle Quartale\n",
    "- den Mittelwert über alle Umsatzzahlen\n",
    "- die Anzahl der überdurchschnittlichen Umsätze"
   ]
  },
  {
   "cell_type": "code",
   "execution_count": null,
   "metadata": {},
   "outputs": [],
   "source": [
    "# Angabe\n",
    "                 #         Quartal\n",
    "                 #  Q1     Q2    Q3     Q4     # Region\n",
    "umsatztabelle = [[11.13, 92.03, 29.61, 60.34], # Nord\n",
    "                 [96.52, 99.55, 76.01, 87.58], # Süd\n",
    "                 [ 6.41, 70.71,  3.23, 17.98], # Mitte\n",
    "                 [31.29, 95.38, 48.30, 11.79], # West\n",
    "                 [33.40, 79.13, 76.16, 48.81]  # Ost\n",
    "                ]"
   ]
  },
  {
   "cell_type": "code",
   "execution_count": null,
   "metadata": {},
   "outputs": [],
   "source": []
  }
 ],
 "metadata": {
  "kernelspec": {
   "display_name": "Python 3",
   "language": "python",
   "name": "python3"
  },
  "language_info": {
   "codemirror_mode": {
    "name": "ipython",
    "version": 3
   },
   "file_extension": ".py",
   "mimetype": "text/x-python",
   "name": "python",
   "nbconvert_exporter": "python",
   "pygments_lexer": "ipython3",
   "version": "3.5.2"
  }
 },
 "nbformat": 4,
 "nbformat_minor": 2
}
