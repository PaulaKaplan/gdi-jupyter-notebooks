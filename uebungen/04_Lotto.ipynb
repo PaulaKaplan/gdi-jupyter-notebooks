{
 "cells": [
  {
   "cell_type": "markdown",
   "metadata": {},
   "source": [
    "# Lotto\n",
    "Die Aufgaben auf diesem Übungsblatt sind als Lernkontrollen für die folgenden Themen gedacht:\n",
    "- Einsatz von Schleifen\n",
    "- Einsatz von ganzzahligen Divisionen und Modulo-Operator (Berechnung Rest einer ganzzahligen Division)\n",
    "\n",
    "## Lotto spielen – ohne Doppelte\n",
    "Erstellen Sie eine Zelle, die 6 Lottozahlen ermittelt – keine Zahl soll dabei doppelt vorkommen, d.h. wenn eine Zahl gezogen wird, deren Wert bereits im Feld enthalten ist, dann muss erneut gezogen werden – so lange bis man eine Zahl gezogen hat, die noch nicht im Feld enthalten ist.\n",
    "Die Zahlen sollen in einer Liste gespeichert werden und mit der <code>print</code> Anweisung ausgegeben werden."
   ]
  },
  {
   "cell_type": "code",
   "execution_count": null,
   "metadata": {},
   "outputs": [],
   "source": []
  },
  {
   "cell_type": "markdown",
   "metadata": {},
   "source": [
    "## Ist eine Zahl eine Primzahl?\n",
    "Erstellen Sie eine Funktion <code>IstPrimzahl</code>, die ermittelt, ob eine Zahl eine Primzahl ist oder nicht."
   ]
  },
  {
   "cell_type": "code",
   "execution_count": null,
   "metadata": {},
   "outputs": [],
   "source": []
  },
  {
   "cell_type": "markdown",
   "metadata": {},
   "source": [
    "## Alle Primzahlen ermitteln\n",
    "Erstellen Sie eine Zelle, die die ersten 10 Primzahlen ermittelt, die mindestens 2 Stellen besitzen. Die Primzahlen sollen mit der <code>print</code> Anweisung ausgegeben werden. Verwenden Sie Ihre Funktion aus der vorhergehenden Aufgabe."
   ]
  },
  {
   "cell_type": "code",
   "execution_count": null,
   "metadata": {},
   "outputs": [],
   "source": []
  },
  {
   "cell_type": "markdown",
   "metadata": {},
   "source": [
    "## Alle Teiler ermitteln\n",
    "Erstellen Sie eine Zelle, die den Benutzer nach einer Zahl fragt, zu dieser Zahl alle Teiler ermittelt und diese dann ausgibt."
   ]
  },
  {
   "cell_type": "code",
   "execution_count": null,
   "metadata": {},
   "outputs": [],
   "source": []
  }
 ],
 "metadata": {
  "kernelspec": {
   "display_name": "Python 3",
   "language": "python",
   "name": "python3"
  },
  "language_info": {
   "codemirror_mode": {
    "name": "ipython",
    "version": 3
   },
   "file_extension": ".py",
   "mimetype": "text/x-python",
   "name": "python",
   "nbconvert_exporter": "python",
   "pygments_lexer": "ipython3",
   "version": "3.5.2"
  }
 },
 "nbformat": 4,
 "nbformat_minor": 2
}
