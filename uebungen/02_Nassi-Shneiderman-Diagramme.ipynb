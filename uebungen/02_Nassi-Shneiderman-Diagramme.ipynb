{
 "cells": [
  {
   "cell_type": "markdown",
   "metadata": {},
   "source": [
    "# Nassi-Shneiderman-Diagramme\n",
    "\n",
    "In diesem Übungsblatt soll die Erstellung von Nassi-Shneiderman-Diagrammen eingeübt werden. Zudem soll das Übertragen von NSDs in Python-Programme eingeübt werden. Dieses Blatt enthält verschiedene Lösungsvarianten für die beiden Aufgaben „Treffer versenkt“ und „Daneben – aber wo?“.\n",
    "\n",
    "## Treffer versenkt\n",
    "\n",
    "Erstellen Sie eine Funktion, die beurteilt, ob sich ein Punkt mit den Koordinaten x und y innerhalb des rechteckigen Bereichs [x1, x2, y1, y2] befindet (Abbildung unten). Zwei unterschiedliche Algorithmen dafür sind als Nassi-Shneiderman-Diagramm gegeben. Übertragen Sie beide NSDs in jeweils ein Python-Programm.\n",
    "\n",
    "![Treffer Versenkt 1](../bilder/treffer_versenkt_1.png)\n",
    "\n",
    "![Treffer Versenkt 2](../bilder/treffer_versenkt_2.png)\n",
    "\n",
    "![Treffer Versenkt 3](../bilder/treffer_versenkt_3.png)\n",
    "\n",
    "Die Lösung oben hat eine „komplexe“ Bedingung, die Lösung unten verwendet zwei jeweils einfachere Bedingungen, die aber ineinander geschachtelt sind."
   ]
  },
  {
   "cell_type": "code",
   "execution_count": null,
   "metadata": {},
   "outputs": [],
   "source": []
  },
  {
   "cell_type": "markdown",
   "metadata": {},
   "source": [
    "## Daneben – aber wo?\n",
    "\n",
    "Erstellen Sie eine Funktion, die für den Punkt mit den Koordinaten x und y die Nummer des getroffenen Gebiets ermittelt (Abbildung unten). Erstellen Sie zuerst ein Nassi-Shneiderman-Diagramm mit dem Algorithmus Ihrer Funktion und übertragen Sie dann das NSD in ein Python-Programm.\n",
    "\n",
    "![Daneben 1](../bilder/daneben_1.png)\n",
    "\n",
    "**Hinweis**: In der Angabe ist nichts darüber ausgesagt, wie mit den Grenzen zu verfahren ist, d.h. ob x1 zu den Gebieten 1, 4 und 6 oder 2, 0 und 7 gehört. In den Lösungen ist es also unerheblich, ob bei den Bedingungen &lt; oder &lt;= verwendet werden.\n",
    "\n",
    "**Lösungsansatz „Der Turm“**\n",
    "\n",
    "Es werden für jede Wertekombination von x und y immer alle 9 Bereiche geprüft, auch wenn man bereits bei der ersten  Prüfung „fündig“ wird. Jede Bedingung prüft jeweils den gesamten Bereich – ist also für sich genommen komplex aufgebaut.\n",
    "\n",
    "![Daneben 2](../bilder/daneben_2.png)\n",
    "\n",
    "**Lösungsansatz „Die Schachtel“**\n",
    "\n",
    "In dieser Lösung wird ebenfalls jeder Bereich als Ganzes geprüft. Die Bedingungen sind komplex. In Bezug auf die Effizienz benötigt man im besten Fall nur eine Prüfung, im schlechtesten Fall werden alle 8 Bedingungen durchlaufen.\n",
    "\n",
    "![Daneben 3](../bilder/daneben_3.png)\n",
    "\n",
    "**Lösungsansatz „Die Säulen“**\n",
    "\n",
    "Durch die erste Prüfung x&lt;x1 teilt man das Suchgebiet in 3 bzw. 6 Felder ein. Es entsteht die „Säule“ aus den Bereichen 6, 1, und 4. Pro Säule muss man dann nur noch die „Ebene“ suchen. Man benötigt somit zwischen 2 und 4 Prüfungen. Dieser Algorithmus ist also am effizientesten. Zudem sind die Bedingungen für sich jeweils einfach und somit auch weniger fehleranfällig.\n",
    "\n",
    "![Daneben 4](../bilder/daneben_4.png)"
   ]
  },
  {
   "cell_type": "code",
   "execution_count": null,
   "metadata": {},
   "outputs": [],
   "source": []
  }
 ],
 "metadata": {
  "kernelspec": {
   "display_name": "Python 3",
   "language": "python",
   "name": "python3"
  },
  "language_info": {
   "codemirror_mode": {
    "name": "ipython",
    "version": 3
   },
   "file_extension": ".py",
   "mimetype": "text/x-python",
   "name": "python",
   "nbconvert_exporter": "python",
   "pygments_lexer": "ipython3",
   "version": "3.5.2"
  }
 },
 "nbformat": 4,
 "nbformat_minor": 2
}
