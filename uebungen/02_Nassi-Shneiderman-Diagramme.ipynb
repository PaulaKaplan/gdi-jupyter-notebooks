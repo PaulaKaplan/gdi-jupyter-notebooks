{
 "cells": [
  {
   "cell_type": "markdown",
   "metadata": {},
   "source": [
    "# Nassi-Shneiderman-Diagramme\n",
    "\n",
    "In diesem Übungsblatt soll die Erstellung von Nassi-Shneiderman-Diagrammen eingeübt werden. Zudem soll das Übertragen von NSDs in Python-Programme eingeübt werden.\n",
    "\n",
    "## Treffer versenkt\n",
    "\n",
    "Erstellen Sie eine Funktion, die beurteilt, ob sich ein Punkt mit den Koordinaten x und y innerhalb des rechteckigen Bereichs [x1, x2, y1, y2] befindet (Abbildung unten). Erstellen Sie zunächst ein NSD für den Algorithmus und übertragen Sie es anschließend in ein Python-Programm.\n",
    "\n",
    "![Treffer Versenkt 1](../bilder/treffer_versenkt_1.png)"
   ]
  },
  {
   "cell_type": "code",
   "execution_count": null,
   "metadata": {},
   "outputs": [],
   "source": []
  },
  {
   "cell_type": "markdown",
   "metadata": {},
   "source": [
    "## Daneben – aber wo?\n",
    "\n",
    "Erstellen Sie eine Funktion, die für den Punkt mit den Koordinaten x und y die Nummer des getroffenen Gebiets ermittelt (Abbildung unten). Erstellen Sie zuerst ein Nassi-Shneiderman-Diagramm mit dem Algorithmus Ihrer Funktion und übertragen Sie dann das NSD in ein Python-Programm.\n",
    "\n",
    "![Daneben 1](../bilder/daneben_1.png)\n",
    "\n",
    "**Hinweis**: In der Angabe ist nichts darüber ausgesagt, wie mit den Grenzen zu verfahren ist, d.h. ob x1 zu den Gebieten 1, 4 und 6 oder 2, 0 und 7 gehört. In den Lösungen ist es also unerheblich, ob bei den Bedingungen &lt; oder &lt;= verwendet werden."
   ]
  },
  {
   "cell_type": "code",
   "execution_count": null,
   "metadata": {},
   "outputs": [],
   "source": []
  }
 ],
 "metadata": {
  "kernelspec": {
   "display_name": "Python 3",
   "language": "python",
   "name": "python3"
  },
  "language_info": {
   "codemirror_mode": {
    "name": "ipython",
    "version": 3
   },
   "file_extension": ".py",
   "mimetype": "text/x-python",
   "name": "python",
   "nbconvert_exporter": "python",
   "pygments_lexer": "ipython3",
   "version": "3.5.2"
  }
 },
 "nbformat": 4,
 "nbformat_minor": 2
}
