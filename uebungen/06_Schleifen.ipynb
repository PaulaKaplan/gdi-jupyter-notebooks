{
 "cells": [
  {
   "cell_type": "markdown",
   "metadata": {},
   "source": [
    "# Schleifen\n",
    "\n",
    "Die Aufgaben auf diesem Übungsblatt dienen der vertieften Übung zur Anwendung von Zähl- und bedingten Schleifen am Beispiel von Mittelwertberechnungen.\n",
    "\n",
    "## Einfache Mittelwertberechnungen mit Zählschleife\n",
    "\n",
    "In einer zweidimensionalen Liste sind positive Werte gegeben (in [0][1], [1][1], [2][1], usw.). Weiterhin ist die Anzahl der Werte gegeben (in [0][0]).\n",
    "\n",
    "Die Python Zelle soll den Mittelwert der gegebenen Werte berechnen und in [1][0] eintragen.\n",
    "Die Python Zelle soll den Mittelwert nur dann berechnen, wenn die Anzahl an Werten größer als 0 ist, sonst soll sie in [1][0] den Text „Fehler“ ausgeben."
   ]
  },
  {
   "cell_type": "code",
   "execution_count": null,
   "metadata": {},
   "outputs": [],
   "source": [
    "# Angabe\n",
    "angabe = [[5, 2.3],\n",
    "          [0, 7.2],\n",
    "          [0, 8.0],\n",
    "          [0, 5.9],\n",
    "          [0, 1.6]\n",
    "         ]\n",
    "\n",
    "# Berechnung\n",
    "# Ergebnis in Liste \"angabe\" speichern\n",
    "\n",
    "# Ausgabe\n",
    "for i in range(5):\n",
    "    print(angabe[i])"
   ]
  },
  {
   "cell_type": "markdown",
   "metadata": {},
   "source": [
    "## Einfache Mittelwertberechnung mit bedingter Schleife\n",
    "\n",
    "### Grundaufgabe\n",
    "\n",
    "In einer zweidimensionalen Liste sind positive Werte gegeben (in [0][2], [1][2], [2][2], usw.). Die Anzahl der Werte ist nun implizit gegeben: der letzte gegebene Zahlenwert ist immer eine 0 und soll in der Berechnung des Mittelwerts nicht berücksichtigt werden.\n",
    "\n",
    "Die Python Zelle soll den Mittelwert der gegebenen Werte berechnen und in [0][0] eintragen. Weiterhin soll die Python Zelle die Anzahl der für die Berechnung verwendeten Werte ermitteln und in [1][0] eintragen. Die Python Zelle soll den Mittelwert nur dann berechnen, wenn die Anzahl an verwendbaren Werten größer als 0 ist, sonst soll sie in [1][0] den Text „Fehler“ ausgeben."
   ]
  },
  {
   "cell_type": "code",
   "execution_count": null,
   "metadata": {},
   "outputs": [],
   "source": [
    "# Angabe\n",
    "angabe = [[0, 0, 2.3],\n",
    "          [0, 0, 7.2],\n",
    "          [0, 0, 8.0],\n",
    "          [0, 0, 5.9],\n",
    "          [0, 0, 1.6],\n",
    "          [0, 0, 0.0]\n",
    "         ]\n",
    "\n",
    "# Berechnung\n",
    "# Ergebnis in Liste \"angabe\" speichern\n",
    "\n",
    "# Ausgabe\n",
    "for i in range(6):\n",
    "    print(angabe[i])"
   ]
  },
  {
   "cell_type": "markdown",
   "metadata": {},
   "source": [
    "### Erweiterung: Mitzählen\n",
    "\n",
    "Geben Sie in der Spalte [x][1] die laufende Nummer der jeweiligen Zahl aus. Das Ergebnis für die oben gegebene Ausgangslage ist beispielhaft unten dargestellt.\n",
    "\n",
    "<code>5, 1, 2.3\n",
    "5, 2, 7.2\n",
    "0, 3, 8.0\n",
    "0, 4, 5.9\n",
    "0, 5, 1.6\n",
    "0, 6, 0.0</code>\n",
    "\n",
    "## Berechnung eines gleitenden Durchschnitts\n",
    "\n",
    "In einer zweidimensionalen Liste ist eine längere Reihe von Zahlen gegeben. Aus dieser Zahlenreihe sollen jeweils n Werte für die Berechnung eines Mittelwerts verwendet werden („gleitender Durchschnitt“). Der Wert n soll vom Benutzer eigegeben werden.\n",
    "\n",
    "Die Python Zelle soll die jeweiligen Mittelwerte berechnen und in Spalte 2 eintragen.\n",
    "\n",
    "Das Ergebnis für n == 5 und die in der Zelle gegebene Angabe ist\n",
    "\n",
    "<code>-6.9, 0.0\n",
    " 1.0, 0.0\n",
    " 8.2, 0.0\n",
    "-4.5, 0.0\n",
    " 2.3, 0.02\n",
    " 4.5, 2.3\n",
    "-8.4, 0.42</code>"
   ]
  },
  {
   "cell_type": "code",
   "execution_count": null,
   "metadata": {},
   "outputs": [],
   "source": [
    "# Angabe\n",
    "angabe = [[-6.9, 0.0],\n",
    "          [ 1.0, 0.0],\n",
    "          [ 8.2, 0.0],\n",
    "          [-4.5, 0.0],\n",
    "          [ 2.3, 0.0],\n",
    "          [ 4.5, 0.0],\n",
    "          [-8.4, 0.0]\n",
    "         ]\n",
    "\n",
    "# Wert n vom Benutzer abfragen\n",
    "\n",
    "# Berechnung\n",
    "# Ergebnis in Liste \"angabe\" speichern\n",
    "\n",
    "# Ausgabe\n",
    "for i in range(7):\n",
    "    print(angabe[i])"
   ]
  }
 ],
 "metadata": {
  "kernelspec": {
   "display_name": "Python 3",
   "language": "python",
   "name": "python3"
  },
  "language_info": {
   "codemirror_mode": {
    "name": "ipython",
    "version": 3
   },
   "file_extension": ".py",
   "mimetype": "text/x-python",
   "name": "python",
   "nbconvert_exporter": "python",
   "pygments_lexer": "ipython3",
   "version": "3.5.2"
  }
 },
 "nbformat": 4,
 "nbformat_minor": 2
}
