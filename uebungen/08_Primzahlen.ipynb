{
 "cells": [
  {
   "cell_type": "markdown",
   "metadata": {},
   "source": [
    "# Primzahlen\n",
    "\n",
    "In diesem Übungsblatt soll ein Algorithmus entwickelt werden, um Primzahlen zu ermitteln. Dazu wird das \"Sieb des Eratosthenes\" verwendet.\n",
    "\n",
    "## Funktionsweise (aus Wikipedia)\n",
    "\n",
    "Zunächst werden alle Zahlen 2, 3, 4, … bis zu einem frei wählbaren Maximalwert S aufgeschrieben. Die zunächst unmarkierten Zahlen sind potentielle Primzahlen. Die kleinste unmarkierte Zahl ist immer eine Primzahl. Nachdem eine Primzahl gefunden wurde, werden alle Vielfachen dieser Primzahl als zusammengesetzt markiert. Man bestimmt die nächstgrößere unmarkierte Zahl. Da sie kein Vielfaches von Zahlen kleiner als sie selbst ist (sonst wäre sie markiert worden), kann sie nur durch eins und sich selbst teilbar sein. Folglich muss es sich um eine Primzahl handeln. Diese wird dementsprechend als Primzahl ausgegeben. Man streicht wieder alle Vielfachen und führt das Verfahren fort, bis man am Ende der Liste angekommen ist. Im Verlauf des Verfahrens werden alle Primzahlen ausgegeben.\n",
    "\n",
    "![Erastosthenes](../bilder/Animation_Sieb_des_Eratosthenes.gif)\n",
    "\n",
    "## Obere Schranke einlesen und Listen erzeugen\n",
    "\n",
    "Schreiben Sie eine Python Zelle, die den Maximalwert S vom Benutzer einliest und eine Liste <code>zahlen</code> mit allen Zahlen von 2 bis S  sowie eine zweite Liste <code>ist_markiert</code> mit der gleichen Anzahl an Elementen erzeugt. In der zweiten Liste werden nur boolean Werte gespeichert, die angeben, ob die entsprechende Zahl aus der ersten Liste markiert ist."
   ]
  },
  {
   "cell_type": "code",
   "execution_count": null,
   "metadata": {},
   "outputs": [],
   "source": [
    "# Wert S einlesen und Listen erzeugen"
   ]
  },
  {
   "cell_type": "markdown",
   "metadata": {},
   "source": [
    "## Primzahlen ermitteln\n",
    "\n",
    "Implementieren Sie das \"Sieb des Eratosthenes\" mit zwei verschachtelten Schleifen. **Hinweis**: Die innere Schleife läuft nur dann, wenn eine Primzahl als solche identifiziert wurde."
   ]
  },
  {
   "cell_type": "code",
   "execution_count": null,
   "metadata": {},
   "outputs": [],
   "source": [
    "# Primzahlen ermitteln"
   ]
  },
  {
   "cell_type": "markdown",
   "metadata": {},
   "source": [
    "## Zusatzaufgabe (schwer!)\n",
    "\n",
    "Schreiben Sie eine rekursive Funktion <code>sieb()</code>, die als Eingabeparameter eine Liste erwartet und auf dieser Liste das Sieb des Eratosthenes ausführt. Überlegen Sie sich zunächst einen passenden Rekursionsschritt und dann eine entsprechende Abbruchbedingung."
   ]
  },
  {
   "cell_type": "code",
   "execution_count": null,
   "metadata": {},
   "outputs": [],
   "source": [
    "# rekursive Funktion \"sieb\" definieren - die return Funktion innerhalb der Funktion entfernen\n",
    "def sieb(liste):\n",
    "    return liste\n",
    "\n",
    "# Funktion Testen\n",
    "eine_liste = [i for i in range(2, 100)]\n",
    "print(sieb(eine_liste))"
   ]
  }
 ],
 "metadata": {
  "kernelspec": {
   "display_name": "Python 3",
   "language": "python",
   "name": "python3"
  },
  "language_info": {
   "codemirror_mode": {
    "name": "ipython",
    "version": 3
   },
   "file_extension": ".py",
   "mimetype": "text/x-python",
   "name": "python",
   "nbconvert_exporter": "python",
   "pygments_lexer": "ipython3",
   "version": "3.5.2"
  }
 },
 "nbformat": 4,
 "nbformat_minor": 2
}
