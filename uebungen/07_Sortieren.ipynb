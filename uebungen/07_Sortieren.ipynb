{
 "cells": [
  {
   "cell_type": "markdown",
   "metadata": {},
   "source": [
    "# Sortieren\n",
    "\n",
    "Die Aufgaben auf diesem Übungsblatt dienen der vertieften Übung zur Anwendung von Sortierungsalgorithmen.\n",
    "\n",
    "## Ausgangssituation\n",
    "\n",
    "Gegeben ist eine Python Liste <code>angabe</code>, in der eine Reihe an Zahlen gespeichert sind, die sortiert werden sollen."
   ]
  },
  {
   "cell_type": "code",
   "execution_count": null,
   "metadata": {},
   "outputs": [],
   "source": [
    "angabe = [19, 96, 30, 11, 73, 2, 99, 72, 69, 73]"
   ]
  },
  {
   "cell_type": "markdown",
   "metadata": {},
   "source": [
    "## Aufgabe 1 – Bubble Sort\n",
    "\n",
    "Erstellen Sie eine Python Zelle, die die Werte in der gegebenen Liste sortiert. Verwenden Sie dazu das angegebene Nassi-Shneidermann-Diagramm.\n",
    "\n",
    "![BubbleSort 1](../bilder/bubblesort_1.png)\n",
    "\n",
    "**Zusatzaufgabe (für geübte)**:\n",
    "\n",
    "Erstellen Sie für das Sortieren der Liste eine eigene Funktion. Überlegen Sie, wie Sie hier mit der „unbekannten“ Größe der Liste umgehen können. Tipp: die Funktion <code>len()</code>."
   ]
  },
  {
   "cell_type": "code",
   "execution_count": null,
   "metadata": {},
   "outputs": [],
   "source": [
    "angabe = [19, 96, 30, 11, 73, 2, 99, 72, 69, 73]\n",
    "\n",
    "# hier algorithmus implementieren\n",
    "\n",
    "# ergebnis ausgeben\n",
    "print(angabe)"
   ]
  },
  {
   "cell_type": "markdown",
   "metadata": {},
   "source": [
    "## Aufgabe 2 – Bubble Sort mit Details\n",
    "\n",
    "Nun soll der Fortgang der Sortierung Schritt für Schritt ausgegeben werden. Weiterhin sollen Algorithmen für alternative Sortierungsverfahren entwickelt werden.\n",
    "\n",
    "### Ausgabe der Details\n",
    "\n",
    "Nach jedem Durchgang, also nach Beendigung der inneren Schleife, soll der Inhalt der Liste ausgegeben werden."
   ]
  },
  {
   "cell_type": "code",
   "execution_count": null,
   "metadata": {},
   "outputs": [],
   "source": [
    "# hier lösung von oben kopieren und verändern"
   ]
  },
  {
   "cell_type": "markdown",
   "metadata": {},
   "source": [
    "### Auf- und Absteigend\n",
    "\n",
    "Kopieren Sie die Lösung von oben und verändern Sie diese, so dass das Feld absteigend sortiert wird. **Hinweis**: es muss nur in einer einzigen Zeile etwas verändert werden!"
   ]
  },
  {
   "cell_type": "code",
   "execution_count": null,
   "metadata": {},
   "outputs": [],
   "source": [
    "# hier lösung von oben kopieren und verändern"
   ]
  },
  {
   "cell_type": "markdown",
   "metadata": {},
   "source": [
    "### Von hinten nach vorne\n",
    "\n",
    "Kopieren Sie die Lösung von oben und verändern Sie diese, so dass das Feld nach dem unten stehenden Algorithmus sortiert wird.\n",
    "\n",
    "![BubbleSort 2](../bilder/bubblesort_2.png)\n",
    "\n",
    "Vergleichen Sie die Ergebnisse der drei Lösungen."
   ]
  },
  {
   "cell_type": "code",
   "execution_count": null,
   "metadata": {},
   "outputs": [],
   "source": [
    "# hier lösung von oben kopieren und verändern"
   ]
  }
 ],
 "metadata": {
  "kernelspec": {
   "display_name": "Python 3",
   "language": "python",
   "name": "python3"
  },
  "language_info": {
   "codemirror_mode": {
    "name": "ipython",
    "version": 3
   },
   "file_extension": ".py",
   "mimetype": "text/x-python",
   "name": "python",
   "nbconvert_exporter": "python",
   "pygments_lexer": "ipython3",
   "version": "3.5.2"
  }
 },
 "nbformat": 4,
 "nbformat_minor": 2
}
