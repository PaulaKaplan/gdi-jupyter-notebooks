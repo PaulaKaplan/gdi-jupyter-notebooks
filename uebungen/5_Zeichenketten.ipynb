{
 "cells": [
  {
   "cell_type": "markdown",
   "metadata": {},
   "source": [
    "# Zeichenketten\n",
    "Die Aufgaben auf diesem Übungsblatt sind als Lernkontrollen für die folgenden Themen gedacht:\n",
    "- Umgang mit Zeichenketten\n",
    "- Einsatz von Schleifen\n",
    "\n",
    "**Hinweis**:\n",
    "- In Python können die einzelnen Zeichen einer Variable vom Typ String wie eine Liste angesprochen werden.\n",
    "- Die Länge eines Strings kann mit der Funktion <code>len()</code> ermittelt werden."
   ]
  },
  {
   "cell_type": "code",
   "execution_count": null,
   "metadata": {},
   "outputs": [],
   "source": [
    "# Eine String Variable\n",
    "text = \"Hallo\"\n",
    "\n",
    "# auf einzelne Zeichen zugreifen\n",
    "print(text[0])\n",
    "print(text[1])\n",
    "\n",
    "# länge des Strings ermitteln\n",
    "länge = len(text)\n",
    "print(\"Die Zeichenkette ist \" + str(länge) + \" Zeichen lang.\")"
   ]
  },
  {
   "cell_type": "markdown",
   "metadata": {},
   "source": [
    "## Aufgabe 1: Vokale zählen\n",
    "Es soll die Anzahl der Vokale in einem Text ermittelt werden.\n",
    "\n",
    "**Beispiele**:\n",
    "- „Hallo“ => 2 Vokale\n",
    "- „Hallo Anton“ => 4 Vokale"
   ]
  },
  {
   "cell_type": "code",
   "execution_count": null,
   "metadata": {},
   "outputs": [],
   "source": []
  },
  {
   "cell_type": "markdown",
   "metadata": {},
   "source": [
    "## Aufgabe 2: Geheim\n",
    "Alle Ziffern sollen durch das Zeichen x ersetzt werden.\n",
    "\n",
    "**Beispiel**: „Vorwahl: 089“ => „Vorwahl: xxx“"
   ]
  },
  {
   "cell_type": "code",
   "execution_count": null,
   "metadata": {},
   "outputs": [],
   "source": []
  },
  {
   "cell_type": "markdown",
   "metadata": {},
   "source": [
    "## Aufgabe 3: Kreditkarten\n",
    "Löschen Sie alle „-“ aus einem Text\n",
    "\n",
    "**Beispiel**: „2927-2736-8372-2837“ => „2927273683722837“\n",
    "\n",
    "**Anmerkung**: typisches Beispiel für Kreditkartennummern. Diese sind in Zahlenkolonen unterteilt, damit sie für den Menschen besser lesbar sind. Programmintern sind Sie ein einziger Schlüssel."
   ]
  },
  {
   "cell_type": "code",
   "execution_count": null,
   "metadata": {},
   "outputs": [],
   "source": []
  },
  {
   "cell_type": "markdown",
   "metadata": {},
   "source": [
    "## Aufgabe 4: Texte sortieren\n",
    "Ermitteln Sie die alphabetische Reihenfolge von zwei Texten. Gehen Sie davon aus, dass die Texte jeweils mit einem Großbuchstaben beginnen. Es soll nur das erste Zeichen für den Vergleich verwendet werden.\n",
    "\n",
    "**Beispiel**:\n",
    "- Text1: „Hochschule München“\n",
    "- Text2: „Grundlagen Informatik“\n",
    "- Ausgabe: „Grundlagen Informatik vor Hochschule München“\n",
    "\n",
    "**Zusatzfrage 1**: Was würde sich ändern, wenn das erste Zeichen auch ein Kleinbuchstabe sein könnte?\n",
    "\n",
    "**Zusatzfrage 2**: Was würde sich ändern, wenn das erste Zeichen beliebig sein könnte?\n",
    "\n",
    "**Zusatzfrage 3**: Was würde sich ändern, wenn man zum Vergleich auch das zweite Zeichen verwenden würde?"
   ]
  },
  {
   "cell_type": "code",
   "execution_count": null,
   "metadata": {},
   "outputs": [],
   "source": []
  },
  {
   "cell_type": "markdown",
   "metadata": {},
   "source": [
    "## Aufgabe 5: IP-Adressen auswerten\n",
    "Eine IP Adresse soll auf Gültigkeit geprüft werden. Gehen Sie davon aus, dass die IP-Adresse jeweils 3-stellig angegeben ist. Jedes Element einer IP-Adresse muss im Wertebereich 0 bis 255 liegen.\n",
    "\n",
    "**Beispiele**:\n",
    "- „129.187.244.212“\n",
    "- „192.168.000.001“\n",
    "\n",
    "**Zusatzfrage**: Was würde sich ändern, wenn die einzelnen Elemente der IP-Adresse ohne Formatierung angegeben wären, also „192.168.0.1“?"
   ]
  },
  {
   "cell_type": "code",
   "execution_count": null,
   "metadata": {},
   "outputs": [],
   "source": []
  },
  {
   "cell_type": "markdown",
   "metadata": {},
   "source": [
    "## Aufgabe 6: URL zerlegen\n",
    "Eine URL soll in seine Bestandteile zerlegt werden:\n",
    "- Protokoll\n",
    "- Host\n",
    "- Pfad\n",
    "Die Bestandteile sollen einzeln ausgegeben werden.\n",
    "\n",
    "**Hinweis**: unterteilen Sie die Aufgabe in zwei Teilaufgaben: Ermitteln Sie zuerst die Position der Trennzeichen „/“ zwischen den Bestandteilen. Achtung: der Pfad kann auch „/“ enthalten, dies sind aber dann keine Trennzeichen mehr (siehe Beispiel)! Wenn Sie die Positionen haben, dann sollte das Aufspalten in die Bestandteile kein Problem mehr sein.\n",
    "\n",
    "- Beispiel: „http://www.hm.edu/home/fhm/d_welcome.pcms“\n",
    "- Protokoll: http\n",
    "- Host: www.hm.edu\n",
    "- Pfad: home/fhm/d_welcome.pcms"
   ]
  },
  {
   "cell_type": "code",
   "execution_count": null,
   "metadata": {},
   "outputs": [],
   "source": []
  }
 ],
 "metadata": {
  "kernelspec": {
   "display_name": "Python 3",
   "language": "python",
   "name": "python3"
  },
  "language_info": {
   "codemirror_mode": {
    "name": "ipython",
    "version": 3
   },
   "file_extension": ".py",
   "mimetype": "text/x-python",
   "name": "python",
   "nbconvert_exporter": "python",
   "pygments_lexer": "ipython3",
   "version": "3.5.2"
  }
 },
 "nbformat": 4,
 "nbformat_minor": 2
}
