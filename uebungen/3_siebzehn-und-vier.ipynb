{
 "cells": [
  {
   "cell_type": "markdown",
   "metadata": {},
   "source": [
    "# Das Spiel „17 und 4“\n",
    "Die Aufgaben auf diesem Übungsblatt sind als Lernkontrollen für die folgenden Themen gedacht:\n",
    "- Einsatz von Zufallszahlen\n",
    "- Einsatz von Listen\n",
    "- Einsatz von Schleifen\n",
    "\n",
    "## 17 und 4 - banal\n",
    "Es soll ein Programm für eine vereinfachte Variante eines „17+4“ Spiels erstellt werden. Als Karten stehen die Werte von 1...9 zur Verfügung. Eine Karte wird per Zufallszahl gezogen.\n",
    "\n",
    "**Das Spiel**: es sollen solange Karten gezogen werden, bis die Summe aller gezogenen Karten größer oder gleich 21 ist. Der Summe aller gezogenen Karten sowie die Anzahl der Karten soll ausgegeben werden."
   ]
  },
  {
   "cell_type": "code",
   "execution_count": null,
   "metadata": {},
   "outputs": [],
   "source": []
  },
  {
   "cell_type": "markdown",
   "metadata": {},
   "source": [
    "## 17 und 4 – etwas besser\n",
    "Es soll ein Programm für eine etwas bessere Variante eines „17+4“ Spiels erstellt werden. Eine Karte wird per Zufallszahl gezogen. Folgende „echte“ Karten stehen zur Verfügung:\n",
    "\n",
    "| Karte | 7 | 8 | 9 | 10 | Bube | Dame | König | As |\n",
    "|-------|---|---|---|----|------|------|-------|----|\n",
    "| Wert  | 7 | 8 | 9 | 10 | 2    | 3    | 4     | 11 |\n",
    "\n",
    "**Das Spiel**: es sollen solange Karten gezogen werden, bis die Summe aller gezogenen Karten größer oder gleich 21 ist oder bereits 15 Karten gezogen wurden. In einer zweidimensionalen Liste sollen pro Zug die folgenden Informationen ausgegeben werden:\n",
    "- Die Zahl der gezogenen Karten (1, 2, 3)\n",
    "- Der Gesamtwert der bisher gezogenen Karten\n",
    "- Der Name der Karte, die gerade gezogen wurde\n",
    "\n",
    "Ein Ergebnis könnte wie Folgt aussehen:\n",
    "\n",
    "<pre>[[      1,   2,      3,      4,       5,    6,  0,  0,  0,  0,  0,  0,  0,  0,  0],  # Anzahl Karten\n",
    " [      4,  11,     14,     16,      20,   30,  0,  0,  0,  0,  0,  0,  0,  0,  0],  # Summe\n",
    " [\"König\", \"7\", \"Dame\", \"Bube\", \"König\", \"10\", \"\", \"\", \"\", \"\", \"\", \"\", \"\", \"\", \"\"]   # Blatt\n",
    "]</pre>\n",
    "\n",
    "**Hinweis**:\n",
    "- Initialisieren Sie die Liste für das Ergebnis mit <code>ergebnis = [[0 for i in range(15)] for k in range(3)]</code>\n",
    "- Vergessen Sie nicht die Elemente in der dritten Zeile in den Typ String umzuwandeln"
   ]
  },
  {
   "cell_type": "code",
   "execution_count": null,
   "metadata": {},
   "outputs": [],
   "source": []
  },
  {
   "cell_type": "markdown",
   "metadata": {},
   "source": [
    "## Reihenberechnung\n",
    "Erstellen Sie eine Python Zelle, die für jede der 3 gegebenen Zahlen n jeweils die Reihe s = 1 + 2 + ... + n berechnet.\n",
    "\n",
    "Die Zwischenergebnisse der Berechnung sowie das Endergebnis der Reihenberechnung s sollen dabei in eine zweidimensionale Liste geschrieben werden. Die Endergebnisse für s in die erste Spalte und die Zwischenergebnisse in die restlichen Spalten dahinter. Die gegebenen Werte für n sind dabei nie größer als 19.\n",
    "\n",
    "Beispiel für ein gegebenes <code>n = [5, 3, 6]</code>:\n",
    "\n",
    "<pre>[[15, 1, 3, 6, 10, 15,  0, 0, 0, 0, 0, 0, 0, 0, 0, 0, 0, 0, 0, 0],\n",
    " [6,  1, 3, 6,  0,  0,  0, 0, 0, 0, 0, 0, 0, 0, 0, 0, 0, 0, 0, 0],\n",
    " [21, 1, 3, 6, 10, 15, 21, 0, 0, 0, 0, 0, 0, 0, 0, 0, 0, 0, 0, 0]\n",
    "]</pre>"
   ]
  },
  {
   "cell_type": "code",
   "execution_count": null,
   "metadata": {},
   "outputs": [],
   "source": []
  }
 ],
 "metadata": {
  "kernelspec": {
   "display_name": "Python 3",
   "language": "python",
   "name": "python3"
  },
  "language_info": {
   "codemirror_mode": {
    "name": "ipython",
    "version": 3
   },
   "file_extension": ".py",
   "mimetype": "text/x-python",
   "name": "python",
   "nbconvert_exporter": "python",
   "pygments_lexer": "ipython3",
   "version": "3.5.2"
  }
 },
 "nbformat": 4,
 "nbformat_minor": 2
}
