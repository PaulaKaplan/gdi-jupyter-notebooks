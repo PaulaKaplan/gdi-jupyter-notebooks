{
 "cells": [
  {
   "cell_type": "markdown",
   "metadata": {},
   "source": [
    "# Datenkomprimierung\n",
    "\n",
    "In den vorangegangenen Tutorien haben wir uns bereits mit der Speicherung von Bildern als zweidimensionale Arrays beschäftigt. Jedes Pixel entspricht einem Wert im Zweidimensionalen Array (0 = Weiß, 1 = Schwarz).\n",
    "\n",
    "Gegeben ist das folgende Bild des Buchstabens \"A\". Es besteht aus 32x32 = 1024 Pixeln. Um dieses Bild im Speicher abzulegen müssen also 1024 Werte gespeichert werden.\n",
    "\n",
    "![Buchstabe A](../bilder/buchstabe_a.png)\n",
    "\n",
    "Die folgende Python Zelle legt dieses Bild im Speicher (in der Variable <code>testbild</code>) ab und zeigt es an."
   ]
  },
  {
   "cell_type": "code",
   "execution_count": null,
   "metadata": {},
   "outputs": [],
   "source": [
    "# Funktion zum Anzeigen von Bildern\n",
    "def plot_image(image):\n",
    "    print(\"┏\" + \"━\" * len(image[0]) * 2 + \"┓\")\n",
    "    for line in image:\n",
    "        print(\"┃\", end=\"\")\n",
    "        for pixel in line:\n",
    "            if pixel == 0:\n",
    "                print(\"  \", end=\"\")\n",
    "            else:\n",
    "                print(\"██\", end=\"\")\n",
    "        print(\"┃\")\n",
    "    print(\"┗\" + \"━\" * len(image[-1]) * 2 + \"┛\")\n",
    "\n",
    "# obiges Testbild\n",
    "testbild = [[0, 0, 0, 0, 0, 0, 0, 0, 0, 0, 0, 0, 0, 0, 0, 0, 0, 0, 0, 0, 0, 0, 0, 0, 0, 0, 0, 0, 0, 0, 0, 0],\n",
    "            [0, 0, 0, 0, 0, 0, 0, 0, 0, 0, 0, 0, 0, 0, 0, 0, 0, 0, 0, 0, 0, 0, 0, 0, 0, 0, 0, 0, 0, 0, 0, 0],\n",
    "            [0, 0, 0, 0, 0, 0, 0, 0, 0, 0, 0, 0, 0, 0, 0, 0, 0, 0, 0, 0, 0, 0, 0, 0, 0, 0, 0, 0, 0, 0, 0, 0],\n",
    "            [0, 0, 0, 0, 0, 1, 1, 1, 1, 1, 1, 1, 1, 1, 1, 1, 1, 1, 1, 1, 1, 1, 1, 1, 1, 1, 1, 0, 0, 0, 0, 0],\n",
    "            [0, 0, 0, 0, 1, 1, 1, 1, 1, 1, 1, 1, 1, 1, 1, 1, 1, 1, 1, 1, 1, 1, 1, 1, 1, 1, 1, 1, 0, 0, 0, 0],\n",
    "            [0, 0, 0, 1, 1, 1, 1, 1, 1, 1, 1, 1, 1, 1, 1, 1, 1, 1, 1, 1, 1, 1, 1, 1, 1, 1, 1, 1, 1, 0, 0, 0],\n",
    "            [0, 0, 0, 1, 1, 1, 1, 1, 1, 1, 1, 1, 1, 1, 1, 1, 1, 1, 1, 1, 1, 1, 1, 1, 1, 1, 1, 1, 1, 0, 0, 0],\n",
    "            [0, 0, 0, 1, 1, 1, 1, 0, 0, 0, 0, 0, 0, 0, 0, 0, 0, 0, 0, 0, 0, 0, 0, 0, 0, 1, 1, 1, 1, 0, 0, 0],\n",
    "            [0, 0, 0, 1, 1, 1, 1, 0, 0, 0, 0, 0, 0, 0, 0, 0, 0, 0, 0, 0, 0, 0, 0, 0, 0, 1, 1, 1, 1, 0, 0, 0],\n",
    "            [0, 0, 0, 1, 1, 1, 1, 0, 0, 0, 0, 0, 0, 0, 0, 0, 0, 0, 0, 0, 0, 0, 0, 0, 0, 1, 1, 1, 1, 0, 0, 0],\n",
    "            [0, 0, 0, 1, 1, 1, 1, 0, 0, 0, 0, 0, 0, 0, 0, 0, 0, 0, 0, 0, 0, 0, 0, 0, 0, 1, 1, 1, 1, 0, 0, 0],\n",
    "            [0, 0, 0, 1, 1, 1, 1, 0, 0, 0, 0, 0, 0, 0, 0, 0, 0, 0, 0, 0, 0, 0, 0, 0, 0, 1, 1, 1, 1, 0, 0, 0],\n",
    "            [0, 0, 0, 1, 1, 1, 1, 0, 0, 0, 0, 0, 0, 0, 0, 0, 0, 0, 0, 0, 0, 0, 0, 0, 0, 1, 1, 1, 1, 0, 0, 0],\n",
    "            [0, 0, 0, 1, 1, 1, 1, 1, 1, 1, 1, 1, 1, 1, 1, 1, 1, 1, 1, 1, 1, 1, 1, 1, 1, 1, 1, 1, 1, 0, 0, 0],\n",
    "            [0, 0, 0, 1, 1, 1, 1, 1, 1, 1, 1, 1, 1, 1, 1, 1, 1, 1, 1, 1, 1, 1, 1, 1, 1, 1, 1, 1, 1, 0, 0, 0],\n",
    "            [0, 0, 0, 1, 1, 1, 1, 1, 1, 1, 1, 1, 1, 1, 1, 1, 1, 1, 1, 1, 1, 1, 1, 1, 1, 1, 1, 1, 1, 0, 0, 0],\n",
    "            [0, 0, 0, 1, 1, 1, 1, 1, 1, 1, 1, 1, 1, 1, 1, 1, 1, 1, 1, 1, 1, 1, 1, 1, 1, 1, 1, 1, 1, 0, 0, 0],\n",
    "            [0, 0, 0, 1, 1, 1, 1, 0, 0, 0, 0, 0, 0, 0, 0, 0, 0, 0, 0, 0, 0, 0, 0, 0, 0, 1, 1, 1, 1, 0, 0, 0],\n",
    "            [0, 0, 0, 1, 1, 1, 1, 0, 0, 0, 0, 0, 0, 0, 0, 0, 0, 0, 0, 0, 0, 0, 0, 0, 0, 1, 1, 1, 1, 0, 0, 0],\n",
    "            [0, 0, 0, 1, 1, 1, 1, 0, 0, 0, 0, 0, 0, 0, 0, 0, 0, 0, 0, 0, 0, 0, 0, 0, 0, 1, 1, 1, 1, 0, 0, 0],\n",
    "            [0, 0, 0, 1, 1, 1, 1, 0, 0, 0, 0, 0, 0, 0, 0, 0, 0, 0, 0, 0, 0, 0, 0, 0, 0, 1, 1, 1, 1, 0, 0, 0],\n",
    "            [0, 0, 0, 1, 1, 1, 1, 0, 0, 0, 0, 0, 0, 0, 0, 0, 0, 0, 0, 0, 0, 0, 0, 0, 0, 1, 1, 1, 1, 0, 0, 0],\n",
    "            [0, 0, 0, 1, 1, 1, 1, 0, 0, 0, 0, 0, 0, 0, 0, 0, 0, 0, 0, 0, 0, 0, 0, 0, 0, 1, 1, 1, 1, 0, 0, 0],\n",
    "            [0, 0, 0, 1, 1, 1, 1, 0, 0, 0, 0, 0, 0, 0, 0, 0, 0, 0, 0, 0, 0, 0, 0, 0, 0, 1, 1, 1, 1, 0, 0, 0],\n",
    "            [0, 0, 0, 1, 1, 1, 1, 0, 0, 0, 0, 0, 0, 0, 0, 0, 0, 0, 0, 0, 0, 0, 0, 0, 0, 1, 1, 1, 1, 0, 0, 0],\n",
    "            [0, 0, 0, 1, 1, 1, 1, 0, 0, 0, 0, 0, 0, 0, 0, 0, 0, 0, 0, 0, 0, 0, 0, 0, 0, 1, 1, 1, 1, 0, 0, 0],\n",
    "            [0, 0, 0, 1, 1, 1, 1, 0, 0, 0, 0, 0, 0, 0, 0, 0, 0, 0, 0, 0, 0, 0, 0, 0, 0, 1, 1, 1, 1, 0, 0, 0],\n",
    "            [0, 0, 0, 1, 1, 1, 1, 0, 0, 0, 0, 0, 0, 0, 0, 0, 0, 0, 0, 0, 0, 0, 0, 0, 0, 1, 1, 1, 1, 0, 0, 0],\n",
    "            [0, 0, 0, 1, 1, 1, 1, 0, 0, 0, 0, 0, 0, 0, 0, 0, 0, 0, 0, 0, 0, 0, 0, 0, 0, 1, 1, 1, 1, 0, 0, 0],\n",
    "            [0, 0, 0, 0, 0, 0, 0, 0, 0, 0, 0, 0, 0, 0, 0, 0, 0, 0, 0, 0, 0, 0, 0, 0, 0, 0, 0, 0, 0, 0, 0, 0],\n",
    "            [0, 0, 0, 0, 0, 0, 0, 0, 0, 0, 0, 0, 0, 0, 0, 0, 0, 0, 0, 0, 0, 0, 0, 0, 0, 0, 0, 0, 0, 0, 0, 0],\n",
    "            [0, 0, 0, 0, 0, 0, 0, 0, 0, 0, 0, 0, 0, 0, 0, 0, 0, 0, 0, 0, 0, 0, 0, 0, 0, 0, 0, 0, 0, 0, 0, 0],\n",
    "           ]\n",
    "\n",
    "# Testbild anzeigen\n",
    "plot_image(testbild)"
   ]
  },
  {
   "cell_type": "markdown",
   "metadata": {},
   "source": [
    "Im obigen beispiel fällt auf, dass es viele zusammenhängende Bereiche gibt, in denen die Pixel den gleichen Wert haben (große weiße oder schwarze Flächen). Das deutet darauf hin, dass das Bild auch mit deutlich weniger als 1024 Werten gespeichert werden kann, sofern wir ein geschicktes Schema zur Speicherung der Daten verwenden. In dieser Übung soll ein solches Schema verwendet werden.\n",
    "\n",
    "Zunächst müssen die Daten von einer zweidimensionalen Liste in eine eindimensionale Liste umgewandelt werden. Aus\n",
    "\n",
    "<pre>[[1,  2,  3,  4],\n",
    " [5,  6,  7,  8],\n",
    " [9, 10, 11, 12]]</pre>\n",
    "\n",
    "soll\n",
    "\n",
    "<pre>[1, 2, 3, 4, 5, 6, 7, 8, 9, 10, 11, 12]</pre>\n",
    " \n",
    "werden.\n",
    "\n",
    "Um die ursprüngliche zweidimensionale Liste wieder herstellen zu können, müssen wir die ursprüngliche Größe mit speichern. An die eindimensionale Liste wird die Größe der ursprünglichen Liste angehängt. Das Ergebnis ist dann\n",
    "\n",
    "<pre>[3, 4, 1, 2, 3, 4, 5, 6, 7, 8, 9, 10, 11, 12]</pre>\n",
    "\n",
    "**Aufgabe**\n",
    "\n",
    "Schreiben Sie die Funktion <code>serialize(image)</code>, die eine zweidimensionale Liste als Eingabeparameter übernimmt, diese wie oben beschrieben in eine eindimensionale Liste umwandelt und diese zurückgibt."
   ]
  },
  {
   "cell_type": "code",
   "execution_count": null,
   "metadata": {},
   "outputs": [],
   "source": [
    "def serialize(image):\n",
    "    \n",
    "    # hier image_serialized erzeugen\n",
    "    \n",
    "    return image_serialized\n",
    "\n",
    "# Funktion serialize testen\n",
    "test_serialized = serialize([[1, 2, 3, 4], [5, 6, 7, 8], [9, 10, 11, 12]])\n",
    "print(test_serialized)"
   ]
  },
  {
   "cell_type": "markdown",
   "metadata": {},
   "source": [
    "**Aufgabe**\n",
    "\n",
    "Schreiben Sie die Funktion <code>deserialize(image_serialized)</code>, die eine mit der eben geschriebenen Funktion umgewandelte Liste wieder in ihr zweidimensionales Äquivalent zurückverandeln kann."
   ]
  },
  {
   "cell_type": "code",
   "execution_count": null,
   "metadata": {},
   "outputs": [],
   "source": [
    "def deserialize(image_serialized):\n",
    "    \n",
    "    # hier image_original erzeugen\n",
    "    \n",
    "    return image_original\n",
    "\n",
    "# Funktion deserialize testen\n",
    "test = deserialize([3, 4, 1, 2, 3, 4, 5, 6, 7, 8, 9, 10, 11, 12])\n",
    "for line in test:\n",
    "    print(line)"
   ]
  },
  {
   "cell_type": "markdown",
   "metadata": {},
   "source": [
    "Wenn wir nun das Testbild durch die Funktion <code>serialize</code> in eine Reihe von Zahlen verwandeln, entsteht eine Liste mit 1024+2 Elementen. In dieser Liste werden wir sehr viele aufeinanderfolgende \"1\" oder \"0\" finden:"
   ]
  },
  {
   "cell_type": "code",
   "execution_count": null,
   "metadata": {},
   "outputs": [],
   "source": [
    "print(serialize(testbild))"
   ]
  },
  {
   "cell_type": "markdown",
   "metadata": {},
   "source": [
    "Anstatt jeden Wert einzeln zu speichern, können wir auch jeweils aufeinanderfolgende gleiche Werte zählen und durch zwei Werte ersetzen. Der erste Wert gibt die Anzahl an Wiederholungen an und der zweite Wert den eigentlichen Wert der Folge.\n",
    "\n",
    "Beispielsweise wird aus\n",
    "\n",
    "<pre>[0, 0, 0, 1, 1, 1, 1, 1, 0, 0, 0, 0, 0]</pre>\n",
    "\n",
    "die Folge\n",
    "\n",
    "<pre>[3, 0, 5, 1, 5, 0]</pre>\n",
    "\n",
    "Wir haben damit also eine ursprünglich 13 Elemente lange Liste in eine 6 Elemente lange Liste komprimiert.\n",
    "\n",
    "**Aufgabe**\n",
    "\n",
    "Wird das gezeigte Verfahren immer die Anzahl an Werten reduzieren? Begründen Sie Ihre Antwort.\n",
    "\n",
    "**Aufgabe**\n",
    "\n",
    "Schreiben Sie die Funktion <code>compress(input_list)</code>, die eine gegebene Liste nach dem oben gezeigten Verfahren umwandelt."
   ]
  },
  {
   "cell_type": "code",
   "execution_count": null,
   "metadata": {},
   "outputs": [],
   "source": [
    "def compress(input_list):\n",
    "    \n",
    "    # hier output_compressed erzeugen\n",
    "    \n",
    "    return output_compressed\n",
    "\n",
    "# Funktion compress testen\n",
    "test_compressed = compress([0, 0, 0, 1, 1, 1, 1, 1, 0, 0, 0, 0, 0])\n",
    "print(test_compressed)"
   ]
  },
  {
   "cell_type": "markdown",
   "metadata": {},
   "source": [
    "**Aufgabe**\n",
    "\n",
    "Schreiben Sie die Funktion <code>decompress(input_compressed)</code>, die eine gegebene, nach dem obigen Verfahren komprimierte Liste wieder in die unkomprimierte Form umwandelt."
   ]
  },
  {
   "cell_type": "code",
   "execution_count": null,
   "metadata": {},
   "outputs": [],
   "source": [
    "def decompress(input_compressed):\n",
    "    \n",
    "    # hier output_decompressed erzeugen\n",
    "    \n",
    "    return output_decompressed\n",
    "\n",
    "# Funktion decompress testen\n",
    "test_decompressed = decompress([3, 0, 5, 1, 5, 0])\n",
    "print(test_decompressed)"
   ]
  },
  {
   "cell_type": "markdown",
   "metadata": {},
   "source": [
    "Nun haben wir alle Funktionen, die zum komprimieren und dekomprimieren von Bildern notwendig sind, geschrieben und können den Effekt auf unser Testbild evaluieren.\n",
    "\n",
    "In der folgenden Python-Zelle wird das oben erzeugte Testbild komprimiert und der damit erreichte Kompressionsfaktor berechnet. Dieser ist das Verhältnis der Anzahl Werte vor und nach dem Komprimiervorgang:\n",
    "\n",
    "$$ \\eta = \\frac{n_{komprimiert}}{n_{unkomprimiert}} $$"
   ]
  },
  {
   "cell_type": "code",
   "execution_count": null,
   "metadata": {},
   "outputs": [],
   "source": [
    "# Testbild komprimieren\n",
    "testbild_komprimiert = compress(serialize(testbild))\n",
    "\n",
    "print(\"Das komprimierte Testbild:\")\n",
    "print(testbild_komprimiert)\n",
    "\n",
    "# Testbild dekomprimieren\n",
    "testbild_dekomprimiert = deserialize(decompress(testbild_komprimiert))\n",
    "\n",
    "print(\"\\nDas rekonstruierte Testbild:\")\n",
    "plot_image(testbild_dekomprimiert)\n",
    "\n",
    "# Kompressionsfaktor berechnen\n",
    "eta = len(testbild_komprimiert) / (len(testbild_dekomprimiert) * len(testbild_dekomprimiert[0]))\n",
    "\n",
    "print(\"\\nDer Kompressionsfaktor beträgt \" + str(100 * eta) + \"%.\")"
   ]
  }
 ],
 "metadata": {
  "kernelspec": {
   "display_name": "Python 3",
   "language": "python",
   "name": "python3"
  },
  "language_info": {
   "codemirror_mode": {
    "name": "ipython",
    "version": 3
   },
   "file_extension": ".py",
   "mimetype": "text/x-python",
   "name": "python",
   "nbconvert_exporter": "python",
   "pygments_lexer": "ipython3",
   "version": "3.5.2"
  }
 },
 "nbformat": 4,
 "nbformat_minor": 2
}
