{
 "cells": [
  {
   "cell_type": "markdown",
   "metadata": {},
   "source": [
    "# Datenobjekte/Variablen\n",
    "In der Vorlesung haben wir Datenobjekte kennen gelernt, die dazu dienen, einen Wert unter einem bestimmten Namen zu speichern. In der praktischen Programmierung werden diese fast ausschließlich Variablen genannt.\n",
    "\n",
    "In Python werden Variablen bei der ersten Verwendung erzeugt. Sie müssen nicht extra erzeugt werden.\n",
    "\n"
   ]
  },
  {
   "cell_type": "code",
   "execution_count": null,
   "metadata": {},
   "outputs": [],
   "source": [
    "nHeim = 10\n",
    "print(nHeim)"
   ]
  },
  {
   "cell_type": "markdown",
   "metadata": {},
   "source": [
    "Eine Variable kann verschiedene Arten von Daten aufnehmen:"
   ]
  },
  {
   "cell_type": "code",
   "execution_count": null,
   "metadata": {},
   "outputs": [],
   "source": [
    "a = 23461342\n",
    "print(a)\n",
    "\n",
    "b = 234.452\n",
    "print(b)\n",
    "\n",
    "t = \"Informatik\"\n",
    "print(t)"
   ]
  },
  {
   "cell_type": "markdown",
   "metadata": {},
   "source": [
    "In Python wird der Zuweisungsoperator als <code>=</code> geschrieben."
   ]
  },
  {
   "cell_type": "markdown",
   "metadata": {},
   "source": [
    "### Zuweisung mit einer Berechnungsformel"
   ]
  },
  {
   "cell_type": "code",
   "execution_count": null,
   "metadata": {},
   "outputs": [],
   "source": [
    "nHeim = 10\n",
    "nGast = 15\n",
    "\n",
    "nGesamt = nHeim + nGast\n",
    "print(nGesamt)"
   ]
  },
  {
   "cell_type": "markdown",
   "metadata": {},
   "source": [
    "### Aufgabe\n",
    "\n",
    "Probieren Sie aus, die Addition durch eine andere Operation zu ersetzen. Suchen Sie dazu in der Python online Dokumentation (**Link zur Python online Dokumentation einfügen**), welche Operatoren es gibt.\n",
    "\n",
    "In der Vorlesung haben wir kennen gelernt, Wie der Wert einer Variable um eins erhöht werden kann. Sehen Sie sich dazu den unten stehenden Code an. Bei jeder erneuten Ausführung wird eine andere Ausgabe erzeugt.\n",
    "\n",
    "Probieren Sie, was geschieht, wenn anstatt der Addition andere Operatoren verwendet werden."
   ]
  },
  {
   "cell_type": "code",
   "execution_count": null,
   "metadata": {},
   "outputs": [],
   "source": [
    "nHeim = nHeim + 1\n",
    "print(nHeim)"
   ]
  },
  {
   "cell_type": "markdown",
   "metadata": {},
   "source": [
    "### Auswertung von Variablen\n",
    "Die Auswertung als mathematischer Vergleich funktioniert in Python ganz so, wie wir es in der Vorlesung kennen gelernt haben."
   ]
  },
  {
   "cell_type": "code",
   "execution_count": null,
   "metadata": {},
   "outputs": [],
   "source": [
    "nHeim > 5"
   ]
  },
  {
   "cell_type": "markdown",
   "metadata": {},
   "source": [
    "Ist der Wert, der in nHeim durch die Ausführung der vorherigen Code-Zellen gespeichert ist, größer als 5 wird als ausgabe <code>True</code> zurückgegeben, Andernfalls <code>False</code>.\n",
    "\n",
    "Dieses Ergebnis können wir nun ebenfalls in einer Variable speichern:"
   ]
  },
  {
   "cell_type": "code",
   "execution_count": null,
   "metadata": {},
   "outputs": [],
   "source": [
    "IstTeamGut = nHeim > 5\n",
    "print(IstTeamGut)"
   ]
  },
  {
   "cell_type": "markdown",
   "metadata": {},
   "source": [
    "### Aufgabe\n",
    "Finden Siemit Hilfe der Python Dokumentation heraus, welche anderen Vergleichsoperatoren ebenfalls von Python unterstützt werden. Wie sieht der Operator aus, mit dem geprüft wird, ob zwei Werte gleich sind?"
   ]
  }
 ],
 "metadata": {
  "kernelspec": {
   "display_name": "Python 3",
   "language": "python",
   "name": "python3"
  },
  "language_info": {
   "codemirror_mode": {
    "name": "ipython",
    "version": 3
   },
   "file_extension": ".py",
   "mimetype": "text/x-python",
   "name": "python",
   "nbconvert_exporter": "python",
   "pygments_lexer": "ipython3",
   "version": "3.5.2"
  }
 },
 "nbformat": 4,
 "nbformat_minor": 2
}
