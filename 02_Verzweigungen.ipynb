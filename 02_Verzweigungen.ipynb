{
 "cells": [
  {
   "cell_type": "markdown",
   "metadata": {},
   "source": [
    "# Verzweigungen\n",
    "Verzweigungen gehören neben den einfachen Anweisungen und den Wiederholungen zu den drei Grundaktionen, aus denen Algorithmen bestehen.\n",
    "\n",
    "Eine Verzweigung prüft immer eine Bedingung. Ist die Bedingung wahr (<code>True</code>), wird ein Anweisungsblock ausgeführt. Ist die Bedingung Falsch (<code>False</code>), wird entweder nichts oder ein anderer Teil ausgeführt."
   ]
  },
  {
   "cell_type": "code",
   "execution_count": null,
   "metadata": {},
   "outputs": [],
   "source": [
    "a = int(input(\"Bitte Wert für a eingeben: \"))\n",
    "if (a > 5):\n",
    "    print(\"a ist größer als 5.\")\n",
    "    \n",
    "b = int(input(\"Bitte Wert für b eingeben: \"))\n",
    "if (b > 5):\n",
    "    print(\"b ist größer als 5.\")"
   ]
  },
  {
   "cell_type": "markdown",
   "metadata": {},
   "source": [
    "Das <code>if</code> Schlüsselwort prüft eine Bedingung und führt, sofern diese Wahr ist, den zugehörigen Codeblock aus.\n",
    "\n",
    "Damit klar ist, welche Anweisungen zu einem Codeblock gehören, werden diese gleichmäßig eingerückt. Sobald eine Anweisung nach dem if-codeblock wieder ganz am linken Zeilenrand beginnt, ist klar dass sie nicht mehr zum If statement gehört."
   ]
  },
  {
   "cell_type": "code",
   "execution_count": null,
   "metadata": {},
   "outputs": [],
   "source": [
    "a = int(input(\"Bitte Wert für a eingeben: \"))\n",
    "if (a == 3):\n",
    "    print(\"a ist gleich drei!\")\n",
    "    print(\"Dieser Text wird nur angezeigt, wenn a genau drei ist.\")\n",
    "print(\"Dieser Text wird immer angezeigt, da die Anweisung nicht mehr zum if-codeblock gehört.\")"
   ]
  },
  {
   "cell_type": "markdown",
   "metadata": {},
   "source": [
    "## Wenn die Bedingung nicht erfüllt ist\n",
    "Für den Fall, dass die Bedingung nicht erfüllt ist, wird in den obigen Beispielen die if Anweisung mit dem gesamten dazugehörigen Codeblock übersprungen.\n",
    "\n",
    "Möchte man einen Codeblock hinzufügen, der **nur dann** ausgeführt wird, wenn eine Bedingung **nicht** Wahr ist, muss man das Schlüsselwort <code>else</code> verwenden:"
   ]
  },
  {
   "cell_type": "code",
   "execution_count": null,
   "metadata": {},
   "outputs": [],
   "source": [
    "a = int(input(\"Bitte Wert für a eingeben: \"))\n",
    "if (a == 3):\n",
    "    print(\"a ist genau 3.\")\n",
    "else:\n",
    "    print(\"a ist nicht gleich 3.\")\n",
    "\n",
    "b = int(input(\"Bitte Wert für b eingeben: \"))\n",
    "if (b == 3):\n",
    "    print(\"b ist genau 3.\")\n",
    "else:\n",
    "    print(\"b ist nicht gleich 3.\")"
   ]
  },
  {
   "cell_type": "markdown",
   "metadata": {},
   "source": [
    "# Mehrere Bedingungen prüfen\n",
    "\n",
    "Für den Fall, dass man mehrere Bedingungen prüfen möchte, gibt es zusätzlich das Schlüsselwort <code>elif</code>. Die Anweisungen die zu einem <code>elif</code> Zweig gehören, werden nur dann ausgeführt, wenn die Bedingung nach dem zugehörigen <code>if</code> Statement nicht wahr ist aber die Bedingung nach dem <code>elif</code> Statement wahr ist.\n",
    "\n",
    "Ein <code>elif</code> Block kann immer nur nach einem <code>if</code> oder einem anderen <code>elif</code> Block stehen."
   ]
  },
  {
   "cell_type": "code",
   "execution_count": null,
   "metadata": {},
   "outputs": [],
   "source": [
    "a = 3\n",
    "b = 5\n",
    "\n",
    "if (a == 4):\n",
    "    print(\"a ist genau 4!\")\n",
    "elif (b == 5):\n",
    "    print(\"a ist zwar nicht gleich 4 aber dafür ist b gleich 5!\")\n",
    "else:\n",
    "    print(\"a ist nicht gleich 4 und b ist nicht gleich 5!\")\n",
    "    \n",
    "#-----------------------------------------------------------------\n",
    "\n",
    "wert = int(input(\"Bitte eine Zahl eingeben: \"))\n",
    "\n",
    "if (wert < 3):\n",
    "    print(\"Wert ist echt kleiner als 3.\")\n",
    "elif (wert >=3) and (wert < 9):\n",
    "    print(\"Wert ist im Bereich 3(inklusive) bis 9(exklusive).\")\n",
    "else:\n",
    "    print(\"Wert ist größer oder gleich 9.\")"
   ]
  }
 ],
 "metadata": {
  "kernelspec": {
   "display_name": "Python 3",
   "language": "python",
   "name": "python3"
  },
  "language_info": {
   "codemirror_mode": {
    "name": "ipython",
    "version": 3
   },
   "file_extension": ".py",
   "mimetype": "text/x-python",
   "name": "python",
   "nbconvert_exporter": "python",
   "pygments_lexer": "ipython3",
   "version": "3.5.2"
  }
 },
 "nbformat": 4,
 "nbformat_minor": 2
}
