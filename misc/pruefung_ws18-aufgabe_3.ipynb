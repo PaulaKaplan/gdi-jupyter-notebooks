{
 "cells": [
  {
   "cell_type": "markdown",
   "metadata": {},
   "source": [
    "## Prüfung WS18 Aufgabe 3\n",
    "\n",
    "### Aufgabe 3.1"
   ]
  },
  {
   "cell_type": "code",
   "execution_count": null,
   "metadata": {},
   "outputs": [],
   "source": [
    "def MeinProdugt(werte):\n",
    "    ergebnis = 0\n",
    "    for i in range(0, len(werte), 2):\n",
    "        if werte[i] != 0:\n",
    "            ergebnis = ergebnis[i] + werte[i]\n",
    "    return ergebnis\n"
   ]
  },
  {
   "cell_type": "markdown",
   "metadata": {},
   "source": [
    "### Aufgabe 3.2\n",
    "Die Ausführung wird in Zeile 16 angehalten"
   ]
  },
  {
   "cell_type": "code",
   "execution_count": null,
   "metadata": {},
   "outputs": [],
   "source": [
    "def Fakultaet(n):\n",
    "    print(n)\n",
    "    if n < 1:\n",
    "        return 1\n",
    "    else:\n",
    "        f = n * Fakultaet(n - 1)\n",
    "        print(f)\n",
    "        return f\n",
    "\n",
    "def nueberk():\n",
    "    n = int(input(\"Wert für n eingeben: \"))\n",
    "    k = int(input(\"Wert für k eingeben: \"))\n",
    "    \n",
    "    nfak = Fakultaet(n)\n",
    "    kfak = Fakultaet(k)\n",
    "    dfak = Fakultaet(n-k)\n",
    "    \n",
    "    print(\"Ergebnis: \" + str(nfak/(kfak * dfak)))\n",
    "    \n",
    "nueberk()"
   ]
  },
  {
   "cell_type": "markdown",
   "metadata": {},
   "source": [
    "### Aufgabe 3.3\n",
    "\n",
    "**Ausgabe a:**\n",
    "\n",
    "1 2 4 8 \n",
    "\n",
    "16 32 64 128 \n",
    "\n",
    "256 512 1024 2048 \n",
    "\n",
    "4096 8192 16384 32768 \n",
    "\n",
    "**Ausgabe b:**\n",
    "\n",
    "[16, 12, 8, 4]\n",
    "\n",
    "[15, 11, 7, 3]\n",
    "\n",
    "[14, 10, 6, 2]\n",
    "\n",
    "[13, 9, 5, 1]"
   ]
  },
  {
   "cell_type": "code",
   "execution_count": null,
   "metadata": {},
   "outputs": [],
   "source": [
    "for i in range(1, 5):\n",
    "    text = \"\"\n",
    "    for j in range(1, 5):\n",
    "        exponent = <...>\n",
    "        text = text + str(2**exponent) + \" \"\n",
    "    print(text)\n"
   ]
  },
  {
   "cell_type": "code",
   "execution_count": null,
   "metadata": {},
   "outputs": [],
   "source": [
    "tabelle = [[0 for i in range(4)] for j in range(4)]\n",
    "\n",
    "for i in range(1, 5):\n",
    "    for j in range(1, 5):\n",
    "        wert = (<...> - 1) * 4 + (<...> - 1)\n",
    "        tabelle[<...>][<...>] = 16 - wert\n",
    "\n",
    "for i in range(4):\n",
    "    print(tabelle[i])"
   ]
  },
  {
   "cell_type": "code",
   "execution_count": null,
   "metadata": {},
   "outputs": [],
   "source": []
  }
 ],
 "metadata": {
  "kernelspec": {
   "display_name": "Python 3",
   "language": "python",
   "name": "python3"
  },
  "language_info": {
   "codemirror_mode": {
    "name": "ipython",
    "version": 3
   },
   "file_extension": ".py",
   "mimetype": "text/x-python",
   "name": "python",
   "nbconvert_exporter": "python",
   "pygments_lexer": "ipython3",
   "version": "3.5.2"
  }
 },
 "nbformat": 4,
 "nbformat_minor": 2
}
