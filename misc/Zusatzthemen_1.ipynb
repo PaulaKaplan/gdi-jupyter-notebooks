{
 "cells": [
  {
   "cell_type": "markdown",
   "metadata": {},
   "source": [
    "# len() Funktion"
   ]
  },
  {
   "cell_type": "code",
   "execution_count": null,
   "metadata": {},
   "outputs": [],
   "source": [
    "elemente = [3, 1, 78, 2435, 78, 12, 0, 5]\n",
    "\n",
    "anzahl_elemente = len(elemente)\n",
    "\n",
    "print(\"Es gibt \" + str(anzahl_elemente) + \" Elemente.\")"
   ]
  },
  {
   "cell_type": "markdown",
   "metadata": {},
   "source": [
    "- Liste aller Python Funktionen, die ohne Bibliothek verfügbar sind: https://docs.python.org/3/library/functions.html"
   ]
  },
  {
   "cell_type": "markdown",
   "metadata": {},
   "source": [
    "# For Schleifen über Listen"
   ]
  },
  {
   "cell_type": "code",
   "execution_count": null,
   "metadata": {},
   "outputs": [],
   "source": [
    "elemente = [2, 4, 7, 10, 335, 8, 0]\n",
    "#elemente = [\"hallo\", \"Welt\", \"Informatik\"]\n",
    "\n",
    "for element in elemente:\n",
    "    print(element)\n",
    "    \n",
    "print(\"----\")\n",
    "    \n",
    "# äquivalent\n",
    "for i in range(len(elemente)):\n",
    "    print(elemente[i])"
   ]
  },
  {
   "cell_type": "markdown",
   "metadata": {},
   "source": [
    "# Initialisierung von Parametern in der Funktionsdeklaration"
   ]
  },
  {
   "cell_type": "code",
   "execution_count": null,
   "metadata": {},
   "outputs": [],
   "source": [
    "def fläche_berechnen(länge=10, breite=10):\n",
    "    return länge*breite\n",
    "\n",
    "\n",
    "for länge in [5, 10, 15, 20]:\n",
    "    for breite in [5, 10, 15, 20]:\n",
    "        # Funktionsaufruf mit Parametern\n",
    "        fläche = fläche_berechnen(länge, breite)\n",
    "        print(\"Ein Rechteck mit Breite \" + str(breite) +\n",
    "              \" und Länge \" + str(länge) +\n",
    "              \" hat den Flächeninhalt \" + str(fläche) + \".\")\n",
    "    print(\"----\")\n",
    "\n",
    "# Funktionsaufruf ohne Parameter\n",
    "fläche = fläche_berechnen()\n",
    "print(\"Ein Rechteck mit Breite 10 und Länge 10 hat den Flächeninhalt \" + str(fläche) + \".\")"
   ]
  },
  {
   "cell_type": "code",
   "execution_count": null,
   "metadata": {},
   "outputs": [],
   "source": [
    "class Kunde:\n",
    "    def __init__(self, Name=\"\", BeginnMietzeitraum=0, EndeMietzeitraum=0, RadNummer=\"\" + \"MVG\"):\n",
    "        self.__Name = Name\n",
    "        self.__BeginnMietzeitraum = BeginnMietzeitraum\n",
    "        self.__EndeMietzeitraum = EndeMietzeitraum\n",
    "        self.__RadNummer = RadNummer\n",
    "        \n",
    "    def Mietdauer(self):\n",
    "        return self.__EndeMietzeitraum - self.__BeginnMietzeitraum\n",
    "    \n",
    "# auf Schlüsselwort Kapselung achten!"
   ]
  },
  {
   "cell_type": "code",
   "execution_count": null,
   "metadata": {},
   "outputs": [],
   "source": [
    "class MVGRad:\n",
    "    def __init__(self, RadNummer=\"\" + \"MVG\", Marke=\"\", IstMTB=True):\n",
    "        i = 3\n",
    "        self.__RadNummer = RadNummer\n",
    "        self.__Marke = Marke\n",
    "        self.__IstMTB = IstMTB"
   ]
  },
  {
   "cell_type": "markdown",
   "metadata": {},
   "source": [
    "# While Schleifen\n",
    "Kopfgesteuert <-> Fußgesteuert\n",
    "\n",
    "![kopfgesteuert](../bilder/schleife_kopfgesteuert.png)\n",
    "![fußgesteuert](../bilder/schleife_fußgesteuert.png)\n",
    "\n",
    "**Aufgabe 1**\n",
    "\n",
    "Kann man fußgesteuerte und kopfgesteuere Schleifen ineinander umwandeln, ohne den Algorithmus zu verändern? Wenn ja, welche Schritte sind dazu notwendig? Für diese Überlegungen ist es am besten, NSDs zu zechnen.\n",
    "\n",
    "**Achtung:** in Python gibt es nur kopfgesteuerte Schleifen!\n",
    "\n",
    "**Aufgabe 2**\n",
    "\n",
    "Schreiben Sie eine Python Zelle, die eine Zahl vom Benutzer abfragt und die Collatz Folge dieser Zahl ausgibt. https://de.wikipedia.org/wiki/Collatz-Problem\n",
    "\n",
    "Berechnen Sie die Folge mit Hilfe einer While-Schleife und entwerfen Sie zunächst ein NSD.\n",
    "\n",
    "**Aufgabe 3**\n",
    "\n",
    "Lösen Sie Aufgabe 2 mit Hilfe einer rekursiven Funktion."
   ]
  },
  {
   "cell_type": "code",
   "execution_count": null,
   "metadata": {},
   "outputs": [],
   "source": [
    "n = int(input(\"Bitte geben Sie eine Zahl für n ein: \"))\n",
    "print(n)\n",
    "while n != 1:\n",
    "    if n % 2 == 0:\n",
    "        n = n/2\n",
    "        n = int(n)\n",
    "    else:\n",
    "        n = 3*n + 1\n",
    "    print(n)"
   ]
  },
  {
   "cell_type": "code",
   "execution_count": null,
   "metadata": {},
   "outputs": [],
   "source": [
    "def collatz(n):\n",
    "    print(n)\n",
    "    if n % 2 == 0:\n",
    "        collatz(int(n/2))\n",
    "    elif n != 1:\n",
    "        collatz(3*n + 1)\n",
    "            \n",
    "n = int(input(\"Bitte geben Sie eine Zahl für n ein: \"))\n",
    "collatz(n)"
   ]
  }
 ],
 "metadata": {
  "kernelspec": {
   "display_name": "Python 3",
   "language": "python",
   "name": "python3"
  },
  "language_info": {
   "codemirror_mode": {
    "name": "ipython",
    "version": 3
   },
   "file_extension": ".py",
   "mimetype": "text/x-python",
   "name": "python",
   "nbconvert_exporter": "python",
   "pygments_lexer": "ipython3",
   "version": "3.5.2"
  }
 },
 "nbformat": 4,
 "nbformat_minor": 2
}
