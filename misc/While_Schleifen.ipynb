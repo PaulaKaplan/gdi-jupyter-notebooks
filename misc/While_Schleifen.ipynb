{
 "cells": [
  {
   "cell_type": "markdown",
   "metadata": {},
   "source": [
    "# While Schleifen\n",
    "Kopfgesteuert <-> Fußgesteuert\n",
    "\n",
    "![kopfgesteuert](../bilder/schleife_kopfgesteuert.png)\n",
    "![fußgesteuert](../bilder/schleife_fußgesteuert.png)\n",
    "\n",
    "**Aufgabe 1**\n",
    "\n",
    "Kann man fußgesteuerte und kopfgesteuere Schleifen ineinander umwandeln, ohne den Algorithmus zu verändern? Wenn ja, welche Schritte sind dazu notwendig? Für diese Überlegungen ist es am besten, NSDs zu zechnen.\n",
    "\n",
    "**Achtung:** in Python gibt es nur kopfgesteuerte Schleifen!\n",
    "\n",
    "**Aufgabe 2**\n",
    "\n",
    "Schreiben Sie eine Python Zelle, die eine Zahl vom Benutzer abfragt und die Collatz Folge dieser Zahl ausgibt. https://de.wikipedia.org/wiki/Collatz-Problem\n",
    "\n",
    "Berechnen Sie die Folge mit Hilfe einer While-Schleife und entwerfen Sie zunächst ein NSD.\n",
    "\n",
    "**Aufgabe 3**\n",
    "\n",
    "Lösen Sie Aufgabe 2 mit Hilfe einer rekursiven Funktion."
   ]
  },
  {
   "cell_type": "code",
   "execution_count": null,
   "metadata": {},
   "outputs": [],
   "source": [
    "# Platz für die Lösung von Aufagabe 2"
   ]
  },
  {
   "cell_type": "code",
   "execution_count": null,
   "metadata": {},
   "outputs": [],
   "source": [
    "# Platz für die Lösung von Aufgabe 3"
   ]
  },
  {
   "cell_type": "code",
   "execution_count": null,
   "metadata": {},
   "outputs": [],
   "source": []
  },
  {
   "cell_type": "code",
   "execution_count": null,
   "metadata": {},
   "outputs": [],
   "source": []
  },
  {
   "cell_type": "code",
   "execution_count": null,
   "metadata": {},
   "outputs": [],
   "source": []
  },
  {
   "cell_type": "markdown",
   "metadata": {},
   "source": [
    "## Lösungen"
   ]
  },
  {
   "cell_type": "code",
   "execution_count": null,
   "metadata": {},
   "outputs": [],
   "source": [
    "n = int(input(\"Bitte geben Sie eine Zahl für n ein: \"))\n",
    "print(n)\n",
    "while n != 1:\n",
    "    if n % 2 == 0:\n",
    "        n = n/2\n",
    "        n = int(n)\n",
    "    else:\n",
    "        n = 3*n + 1\n",
    "    print(n)"
   ]
  },
  {
   "cell_type": "code",
   "execution_count": null,
   "metadata": {},
   "outputs": [],
   "source": [
    "def collatz(n):\n",
    "    print(n)\n",
    "    if n % 2 == 0:\n",
    "        collatz(int(n/2))\n",
    "    elif n != 1:\n",
    "        collatz(3*n + 1)\n",
    "            \n",
    "n = int(input(\"Bitte geben Sie eine Zahl für n ein: \"))\n",
    "collatz(n)"
   ]
  }
 ],
 "metadata": {
  "kernelspec": {
   "display_name": "Python 3",
   "language": "python",
   "name": "python3"
  },
  "language_info": {
   "codemirror_mode": {
    "name": "ipython",
    "version": 3
   },
   "file_extension": ".py",
   "mimetype": "text/x-python",
   "name": "python",
   "nbconvert_exporter": "python",
   "pygments_lexer": "ipython3",
   "version": "3.5.2"
  }
 },
 "nbformat": 4,
 "nbformat_minor": 2
}
