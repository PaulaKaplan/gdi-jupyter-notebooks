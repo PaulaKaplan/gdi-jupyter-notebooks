{
 "cells": [
  {
   "cell_type": "markdown",
   "metadata": {},
   "source": [
    "# Datentypen\n",
    "Geben Sie jeweils den Datentyp von x nach der Ausführung der entsprechenden Operation(en) an. Bei Listen ist die Größe der Liste und die Datentyp(en) der Elemente mit anzugeben."
   ]
  },
  {
   "cell_type": "code",
   "execution_count": null,
   "metadata": {},
   "outputs": [],
   "source": [
    "# a\n",
    "x = 1 - (2**8)\n",
    "\n",
    "# b\n",
    "n = 10\n",
    "x = 255/(1 + n)\n",
    "\n",
    "# c\n",
    "x = [[True for j in range(3)] for i in range(10)]\n",
    "\n",
    "# d\n",
    "x = [1/i for i in range(1, 10)]\n",
    "\n",
    "# e\n",
    "class Farbe:\n",
    "    def __init__(self, r, g, b):\n",
    "        self.rot = r\n",
    "        self.gruen = g\n",
    "        self.blau = b\n",
    "\n",
    "x = [Farbe(i, 255-i, 0) for i in range(256)]"
   ]
  },
  {
   "cell_type": "code",
   "execution_count": null,
   "metadata": {},
   "outputs": [],
   "source": [
    "class Kunde:\n",
    "    def __init__(self, Name = \"\", BeginnMietzeitraum = 0, EndeMietzeitraum = 0, RadNummer = \"\" + \"MVG\"):\n",
    "        self.__Name = Name\n",
    "        self.__BeginnMietzeitraum = BeginnMietzeitraum\n",
    "        self.__EndeMietzeitraum = EndeMietzeitraum\n",
    "        self.__RadNummer = RadNummer\n",
    "        \n",
    "    def Mietdauer(self):\n",
    "        return self.__EndeMietzeitraum - self.__BeginnMietzeitraum"
   ]
  },
  {
   "cell_type": "code",
   "execution_count": null,
   "metadata": {},
   "outputs": [],
   "source": [
    "class MVGRad:\n",
    "    def __init__(self, RadNummer = \"\" + \"MVG\", Marke = \"\", IstMTB = True):\n",
    "        self.__RadNummer = RadNummer\n",
    "        self.__Marke = Marke\n",
    "        self.__IstMTB = IstMTB"
   ]
  },
  {
   "cell_type": "code",
   "execution_count": null,
   "metadata": {},
   "outputs": [],
   "source": []
  }
 ],
 "metadata": {
  "kernelspec": {
   "display_name": "Python 3",
   "language": "python",
   "name": "python3"
  },
  "language_info": {
   "codemirror_mode": {
    "name": "ipython",
    "version": 3
   },
   "file_extension": ".py",
   "mimetype": "text/x-python",
   "name": "python",
   "nbconvert_exporter": "python",
   "pygments_lexer": "ipython3",
   "version": "3.5.2"
  }
 },
 "nbformat": 4,
 "nbformat_minor": 2
}
