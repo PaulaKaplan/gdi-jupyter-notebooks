{
 "cells": [
  {
   "cell_type": "markdown",
   "metadata": {},
   "source": [
    "# Rekursion\n",
    "\n",
    "## Beispiel"
   ]
  },
  {
   "cell_type": "code",
   "execution_count": null,
   "metadata": {},
   "outputs": [],
   "source": [
    "def fak(n):\n",
    "    if n == 0:\n",
    "        return 1\n",
    "    else:\n",
    "        ret = n * fak(n-1)\n",
    "        return ret\n",
    "    \n",
    "print(fak(5))"
   ]
  },
  {
   "cell_type": "markdown",
   "metadata": {},
   "source": [
    "## Mit zusätzlichen Ausgaben"
   ]
  },
  {
   "cell_type": "code",
   "execution_count": null,
   "metadata": {},
   "outputs": [],
   "source": [
    "def fak(n, call_counter):\n",
    "    print(call_counter * \"  \" + \"Aufruf \" + str(call_counter) + \": n = \" + str(n))\n",
    "    \n",
    "    if n == 0:\n",
    "        \n",
    "        print(call_counter * \"  \" + \"Aufruf \" + str(call_counter) + \": Abbruchbedingung: n == 0\")\n",
    "        print(call_counter * \"  \" + \"Aufruf \" + str(call_counter) + \": return 1\")\n",
    "        \n",
    "        return 1\n",
    "    else:\n",
    "        \n",
    "        print(call_counter * \"  \" + \"Aufruf \" + str(call_counter) + \": berechne \" + str(n) + \"*fak(\" + str(n-1) + \")\")\n",
    "        \n",
    "        ret = n * fak(n-1, call_counter + 1)\n",
    "        \n",
    "        print(call_counter * \"  \" + \"Aufruf \" + str(call_counter) + \": berechnung abgeschlossen -> return \" + str(ret))\n",
    "        \n",
    "        return ret\n",
    "    \n",
    "print(fak(5, 1))"
   ]
  },
  {
   "cell_type": "code",
   "execution_count": null,
   "metadata": {},
   "outputs": [],
   "source": []
  }
 ],
 "metadata": {
  "kernelspec": {
   "display_name": "Python 3",
   "language": "python",
   "name": "python3"
  },
  "language_info": {
   "codemirror_mode": {
    "name": "ipython",
    "version": 3
   },
   "file_extension": ".py",
   "mimetype": "text/x-python",
   "name": "python",
   "nbconvert_exporter": "python",
   "pygments_lexer": "ipython3",
   "version": "3.5.2"
  }
 },
 "nbformat": 4,
 "nbformat_minor": 2
}
