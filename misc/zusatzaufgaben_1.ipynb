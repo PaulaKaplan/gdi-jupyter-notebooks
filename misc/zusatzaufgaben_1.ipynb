{
 "cells": [
  {
   "cell_type": "markdown",
   "metadata": {},
   "source": [
    "# Zusatzaufgaben (von Valentin Solotych)\n",
    "\n",
    "## 1 Verschachtelte Liste\n",
    "\n",
    "Erstellen Sie in Python folgende verschachtelte Liste:\n",
    "\n",
    "<pre>[['A', 0, 0, 0, 0, 0]\n",
    " [0, 'A', 0, 0, 0, 0]\n",
    " [0, 'A', 0, 0, 0, 0]\n",
    " [0, 0, 'A', 0, 0, 0]\n",
    " [0, 0, 'A', 0, 0, 0]\n",
    " [0, 0, 0, 'A', 0, 0]\n",
    " [0, 0, 0, 'A', 0, 0]\n",
    " [0, 0, 0, 0, 'A', 0]\n",
    " [0, 0, 0, 0, 'A', 0]\n",
    " [0, 0, 0, 0, 0, 'A']\n",
    " [0, 0, 0, 0, 0, 'A']]</pre>\n",
    "\n",
    "Es handelt sich hierbei um eine Liste die 11 Elemente hat. Jedes Element ist jeweils eine Liste mit 6 Elementen.\n",
    "Verwenden Sie eine for-Schleife um diese verschachtelte Liste zu erstellen."
   ]
  },
  {
   "cell_type": "code",
   "execution_count": null,
   "metadata": {},
   "outputs": [],
   "source": []
  },
  {
   "cell_type": "markdown",
   "metadata": {},
   "source": [
    "## 2 Struktogramm\n",
    "\n",
    "### 2.1 Fibonacci\n",
    "\n",
    "Gegeben ist folgendes Struktogramm. Das Struktogramm zeigt einen einfachen Algorithmus, wie man das n-te Element einer Fibonacci Reihe berechnen kann. Setzten Sie diese Spezifikation in Python/VBA um.\n",
    "\n",
    "![NSD Fibonacci](../bilder/fibonacci.png)\n",
    "\n",
    "**Bonus**: Bevor Sie die Spezifikation in einem Programm umsetzten, berechnen Sie die 7-te Stelle der Fiboncci Reihe per Hand, mit dem Algorithmus der dargestellt ist."
   ]
  },
  {
   "cell_type": "code",
   "execution_count": null,
   "metadata": {},
   "outputs": [],
   "source": []
  },
  {
   "cell_type": "markdown",
   "metadata": {},
   "source": [
    "### 2.2 Wurzelberechnung\n",
    "\n",
    "Gegeben ist folgendes Struktogramm. Das Struktogramm zeigt einen einfachen Algorithmus, wie man die Wurzel einer beliebigen positiven Zahl mit einer Genauigkeit von 0,01 berechnen kann. Setzten Sie diese Spezifikation in Python/VBA um.\n",
    "\n",
    "![NSD Wurzel](../bilder/wurzel.png)\n",
    "\n",
    "**Bonus**: Bevor Sie die Spezifikation in einem Programm umsetzten, berechnen Sie die Wurzel von der Zahl 2 per Hand, mit dem Algorithmus der dargestellt ist."
   ]
  },
  {
   "cell_type": "code",
   "execution_count": null,
   "metadata": {},
   "outputs": [],
   "source": []
  },
  {
   "cell_type": "markdown",
   "metadata": {},
   "source": [
    "## 3 Rekursion\n",
    "\n",
    "Gegeben ist die quadratische Summe aus Aufgabe 1.4 der Aufgabensammlung:\n",
    "\n",
    "$$ s = \\sum_{i = 1}^{n} i^{2} = 1^2 + 2^2 + \\dots + n^2 $$\n",
    "\n",
    "Zusätzlich ist ein einfacher Python code für die Berechnung dieser Summe gegeben:"
   ]
  },
  {
   "cell_type": "code",
   "execution_count": null,
   "metadata": {},
   "outputs": [],
   "source": [
    "def quadratische_summe(n):\n",
    "    summe = 0\n",
    "    for ii in range(n+1):\n",
    "        summe = summe + ii**2\n",
    "        #print(\"Zwischensumme\", summe)\n",
    "    return summe\n",
    "\n",
    "print(quadratische_summe(100))"
   ]
  },
  {
   "cell_type": "markdown",
   "metadata": {},
   "source": [
    "Ihre Aufgabe ist es, die for-Scheife durch eine Rekursion zu ersetzten.\n",
    "\n",
    "**Bonus**: Im Allgemeinen ist es möglich jede for-Schleife in eine Rekursion umzuwandeln und umgekehrt. Üben Sie die Umwandlung an anderen Beispielen:\n",
    "- Fakultät\n",
    "- Aufgabe 1.4 B bis D in der Aufgabensammlung\n",
    "- Aufgabe 1.8 in der Aufgabensammlung\n",
    "- …"
   ]
  },
  {
   "cell_type": "code",
   "execution_count": null,
   "metadata": {},
   "outputs": [],
   "source": []
  },
  {
   "cell_type": "code",
   "execution_count": null,
   "metadata": {},
   "outputs": [],
   "source": []
  },
  {
   "cell_type": "code",
   "execution_count": null,
   "metadata": {},
   "outputs": [],
   "source": []
  },
  {
   "cell_type": "code",
   "execution_count": null,
   "metadata": {},
   "outputs": [],
   "source": []
  },
  {
   "cell_type": "code",
   "execution_count": null,
   "metadata": {},
   "outputs": [],
   "source": []
  },
  {
   "cell_type": "code",
   "execution_count": null,
   "metadata": {},
   "outputs": [],
   "source": []
  },
  {
   "cell_type": "code",
   "execution_count": null,
   "metadata": {},
   "outputs": [],
   "source": []
  },
  {
   "cell_type": "markdown",
   "metadata": {},
   "source": [
    "## Lösungen"
   ]
  },
  {
   "cell_type": "code",
   "execution_count": null,
   "metadata": {},
   "outputs": [],
   "source": [
    "# Aufgabe 1\n",
    "liste = [[0 for i in range(6)] for j in range(11)]\n",
    "\n",
    "for i in range(11):\n",
    "    liste[i][int(i/2 + 0.5)] = 'A'\n",
    "    \n",
    "for zeile in liste:\n",
    "    print(zeile)\n",
    "    \n",
    "# Aufgabe 2.1\n",
    "def fibonacci(n):\n",
    "    if n < 0:\n",
    "        print(\"Falsche Position\")\n",
    "    elif n == 0:\n",
    "        print(0)\n",
    "    elif n == 1:\n",
    "        print(1)\n",
    "    elif n == 2:\n",
    "        print(1)\n",
    "    elif n > 2: # hier könnte auch nur \"else:\" stehen\n",
    "        temp1 = 1\n",
    "        temp2 = 1\n",
    "        for i in range(n-2):\n",
    "            temp_fib = temp1 + temp2\n",
    "            temp1 = temp2\n",
    "            temp2 = temp_fib\n",
    "        print(temp_fib)\n",
    "        \n",
    "fibonacci(7)\n",
    "\n",
    "# Aufgabe 2.2\n",
    "def wurzel(n):\n",
    "    links = 0\n",
    "    rechts = n\n",
    "    wurzel = (rechts + links) / 2\n",
    "    while abs(wurzel**2 - n) > 0.01:\n",
    "        if wurzel**2 < n:\n",
    "            links = wurzel\n",
    "        else:\n",
    "            rechts = wurzel\n",
    "        wurzel = (rechts + links) / 2\n",
    "    return wurzel\n",
    "\n",
    "print(wurzel(2))\n",
    "\n",
    "# Aufgabe 3\n",
    "def quadratische_summe(n):\n",
    "    if n == 1:\n",
    "        return 1\n",
    "    else:\n",
    "        return n**2 + quadratische_summe(n-1)\n",
    "\n",
    "print(quadratische_summe(100))"
   ]
  }
 ],
 "metadata": {
  "kernelspec": {
   "display_name": "Python 3",
   "language": "python",
   "name": "python3"
  },
  "language_info": {
   "codemirror_mode": {
    "name": "ipython",
    "version": 3
   },
   "file_extension": ".py",
   "mimetype": "text/x-python",
   "name": "python",
   "nbconvert_exporter": "python",
   "pygments_lexer": "ipython3",
   "version": "3.5.2"
  }
 },
 "nbformat": 4,
 "nbformat_minor": 2
}
