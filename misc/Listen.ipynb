{
 "cells": [
  {
   "cell_type": "markdown",
   "metadata": {},
   "source": [
    "# Listen\n",
    "\n",
    "Eine Liste ersetzt viele einzelne Variablen:"
   ]
  },
  {
   "cell_type": "code",
   "execution_count": null,
   "metadata": {},
   "outputs": [],
   "source": [
    "var0 = 5\n",
    "var1 = 6\n",
    "var2 = 7\n",
    "var3 = 8"
   ]
  },
  {
   "cell_type": "markdown",
   "metadata": {},
   "source": [
    "wird zu"
   ]
  },
  {
   "cell_type": "code",
   "execution_count": null,
   "metadata": {},
   "outputs": [],
   "source": [
    "var[0] = 5\n",
    "var[1] = 6\n",
    "var[2] = 7\n",
    "var[3] = 8"
   ]
  },
  {
   "cell_type": "markdown",
   "metadata": {},
   "source": [
    "Die Liste im unteren Beispiel vereint in einer einzelnen Variable <code>var</code> die Variablen <code>var0, var1, var2 und var3</code> im oberen Beispiel.\n",
    "\n",
    "Um die Liste wie im unteren Beispiel nutzen zu können, müssen wir sie zunächst initialisieren. Bei der Initialisierung können wir angeben, wie viele Elemente die Liste später enthalten soll (Es können später immer noch weitere Elemente hinzugefügt oder entfernt werden):"
   ]
  },
  {
   "cell_type": "code",
   "execution_count": null,
   "metadata": {},
   "outputs": [],
   "source": [
    "var = [0, 0, 0, 0]"
   ]
  },
  {
   "cell_type": "markdown",
   "metadata": {},
   "source": [
    "Würde beispielsweise eine Liste mit 4 Elementen erzeugen, die wir dann wie oben verwenden können.\n",
    "\n",
    "Ein besonderes Merkmal von Listen ist, dass wir die einzelnen Elemente nicht nur durch feste Zahlen ansprechen können (wie in <code>var[2] = 7</code>), sondern die Elementnummer (man spricht auch vom Index) auch durch eine Variable ersetzen können:"
   ]
  },
  {
   "cell_type": "code",
   "execution_count": null,
   "metadata": {},
   "outputs": [],
   "source": [
    "counter = 2\n",
    "var[counter] = 7"
   ]
  },
  {
   "cell_type": "markdown",
   "metadata": {},
   "source": [
    "In diesem Fall wird der Wert aus der Variable <code>counter</code> genommen, der in diesem Fall gleich 2 ist, und das Element der Liste mit dem Index 2 angesprochen. Wäre der Wert in <code>counter</code> gleich 3, würde das Element der Liste mit dem Index 3 angesprochen.\n",
    "\n",
    "Diese Eigenschaft ermöglicht es uns, Schleifen zu schreiben, die in jedem Durchlauf ein anderes Element einer Liste ansprechen:"
   ]
  },
  {
   "cell_type": "code",
   "execution_count": null,
   "metadata": {},
   "outputs": [],
   "source": [
    "for i in range(len(var)):\n",
    "    var[i]"
   ]
  },
  {
   "cell_type": "markdown",
   "metadata": {},
   "source": [
    "In jedem Durchlauf der Schleife wird die Variable i um eins erhöht. Danach wird der Wert aus der Variable i genommen und als Index für die Liste verwendet. Wir greifen also bei jedem Schleifendurchlauf auf ein anderes Element der Liste zu.\n",
    "\n",
    "Listen können aber noch mehr: Anstatt auf einzelne Elemente zuzugreifen, können wir auch auf ganze Bereiche einer Liste gleichzeitig zugreifen. Das Ergebnis einer solchen Operation ist dann wieder eine Liste. Mit dem Unterschied, dass die Ergebnis-Liste nur eine Teilmenge der ursprünglichen Liste enthält.\n",
    "\n",
    "Anstatt eines einzelnen Werts für den Index werden in so einem Fall drei Indexwerte verwendet:"
   ]
  },
  {
   "cell_type": "code",
   "execution_count": null,
   "metadata": {},
   "outputs": [],
   "source": [
    "var[2:15:2]"
   ]
  },
  {
   "cell_type": "markdown",
   "metadata": {},
   "source": [
    "Der erste Wert gibt den Startindex an, der zweite Wert den Endindex und der dritte Wert die Schrittweite. In diesem Fall würden wir eine Teilliste erzeugen, die die Elemente 2, 4, 6, 8, 10, 12 und 14 der Ausgangsliste enthält.\n",
    "\n",
    "Natürlich können auch die Indexwerte in dieser Doppelpunktnotation durch Variablen ersetzt werden:"
   ]
  },
  {
   "cell_type": "code",
   "execution_count": null,
   "metadata": {},
   "outputs": [],
   "source": [
    "for i in range(len(var)):\n",
    "    var[0:i:1]"
   ]
  },
  {
   "cell_type": "markdown",
   "metadata": {},
   "source": [
    "Für den Sonderfall, dass der Startwert gleich 0 ist und die Schrittweite gleich 1, können wir diese beiden Angaben auch entfallen lassen:"
   ]
  },
  {
   "cell_type": "code",
   "execution_count": null,
   "metadata": {},
   "outputs": [],
   "source": [
    "for i in range(len(var)):\n",
    "    var[:i]"
   ]
  },
  {
   "cell_type": "markdown",
   "metadata": {},
   "source": [
    "Diese Schleife erzeugt in jedem Durchlauf eine Teilliste mit den ersten i Elementen. (Im ersten Durchlauf ein Element, im zweiten Durchlauf zwei Elemente, im dritten Durchlauf drei Elemente usw...)"
   ]
  },
  {
   "cell_type": "code",
   "execution_count": null,
   "metadata": {},
   "outputs": [],
   "source": []
  }
 ],
 "metadata": {
  "kernelspec": {
   "display_name": "Python 3",
   "language": "python",
   "name": "python3"
  },
  "language_info": {
   "codemirror_mode": {
    "name": "ipython",
    "version": 3
   },
   "file_extension": ".py",
   "mimetype": "text/x-python",
   "name": "python",
   "nbconvert_exporter": "python",
   "pygments_lexer": "ipython3",
   "version": "3.5.2"
  }
 },
 "nbformat": 4,
 "nbformat_minor": 2
}
