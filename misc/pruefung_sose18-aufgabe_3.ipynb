{
 "cells": [
  {
   "cell_type": "markdown",
   "metadata": {},
   "source": [
    "# Prüfung SoSe18 - Aufgabe 3\n",
    "\n",
    "## 3.1 Fehlersuche\n",
    "\n",
    "Finden Sie in der folgenden Python-Zelle 5 Syntaxfehler."
   ]
  },
  {
   "cell_type": "code",
   "execution_count": null,
   "metadata": {},
   "outputs": [],
   "source": [
    "def Summe2(f, divisor):\n",
    "    summe = 0\n",
    "    i = 0\n",
    "    while i < len[f]\n",
    "        if f(i) % divisor = 0:\n",
    "            summe = summe + f[i]\n",
    "        i == i + 1\n",
    "    return summe"
   ]
  },
  {
   "cell_type": "markdown",
   "metadata": {},
   "source": [
    "## 3.2 Codeanalyse\n",
    "\n",
    "Unten ist der Programmcode einer Python Funktion gegeben. Die Funktion gibt eine Zahlenfolge aus, deren Werte sich durch die Funktion Fib(i) berechnet.\n",
    "\n",
    "Die Ausgabe soll für folgenden Ausführungszustand des Programms erfolgen:\n",
    "- Es wurde der Wert b = 3 eingegeben\n",
    "- Die Laufvariable i der Schleife hat den Wert 2, d.h. Fib wurde bereits bei i=1 mit Fib(1) aufgerufen.\n",
    "\n",
    "Tragen Sie in der untenstehenden Tabelle die Reihenfolge der hierauf folgenden Funktionsaufrufe von Fib ein, jeweils mit Angabe des Werts des Aktualparameters.\n",
    "\n",
    "Geben Sie abschließend den Wert an, welcher bei \"print(out)\" ausgegeben wird.\n",
    "\n",
    "\n",
    "Reihenfolge | Aufruf von Fib()  \n",
    "------------|------------------\n",
    "0           | Fib(1)           \n",
    "1           |                  \n",
    "2           |                  \n",
    "3           |                  \n",
    "4           |                  \n",
    "5           |                  \n",
    "6           |                  \n",
    "7           |                  \n",
    "8           |                  \n",
    "MsgBox(out) |                  \n"
   ]
  },
  {
   "cell_type": "code",
   "execution_count": null,
   "metadata": {},
   "outputs": [],
   "source": [
    "def Fib(i):\n",
    "    print(\"Aufruf: Fib(\" + str(i) + \")\")\n",
    "    \n",
    "    if i < 2:\n",
    "        k = i\n",
    "    else:\n",
    "        k = Fib(i - 1) + Fib(i - 2)\n",
    "    return k\n",
    "\n",
    "def Zahlenfolge():\n",
    "    b = 3\n",
    "    \n",
    "    out = str(Fib(0))\n",
    "    for i in range(1, b + 1):\n",
    "        out = out + \",\" + str(Fib(i))\n",
    "        \n",
    "    print(out)\n",
    "\n",
    "Zahlenfolge()"
   ]
  },
  {
   "cell_type": "markdown",
   "metadata": {},
   "source": [
    "## 3.3 Programmveränderung\n",
    "\n",
    "Es ist jeweils die Ausgabe einer Python Zelle gegeben. Ergänzen Sie die Lücken im Code, um die angegebene Ausgabe zu erzeugen.\n",
    "\n",
    "### A\n",
    "\n",
    "<pre>['*', '*', '*', ' ', '*', '*', '*']\n",
    "['*', '*', ' ', ' ', ' ', '*', '*']\n",
    "['*', ' ', ' ', ' ', ' ', ' ', '*']\n",
    "[' ', ' ', ' ', ' ', ' ', ' ', ' ']</pre>"
   ]
  },
  {
   "cell_type": "code",
   "execution_count": null,
   "metadata": {},
   "outputs": [],
   "source": [
    "def Ausgabe():\n",
    "    Liste = [[\" \" for j in range(7)] for i in range(4)]\n",
    "    \n",
    "    for i in range(1, 5):\n",
    "        for j in range(1, <...>):\n",
    "            Liste[i - 1][j - 1] = \"*\"\n",
    "            Liste[i - 1][<...>] = \"*\"\n",
    "            \n",
    "    for Zeile in Liste:\n",
    "        print(Zeile)\n",
    "\n",
    "Ausgabe()"
   ]
  },
  {
   "cell_type": "markdown",
   "metadata": {},
   "source": [
    "### B\n",
    "\n",
    "<pre>[' ', '*', ' ', '*', ' ', '*']\n",
    "[' ', '*', ' ', '*', ' ', '*']\n",
    "[' ', '*', ' ', '*', ' ', '*']\n",
    "[' ', '*', ' ', '*', ' ', '*']</pre>"
   ]
  },
  {
   "cell_type": "code",
   "execution_count": null,
   "metadata": {},
   "outputs": [],
   "source": [
    "def Ausgabe():\n",
    "    Liste = [[\" \" for j in range(6)] for i in range(4)]\n",
    "    \n",
    "    for i in range(1, 5):\n",
    "        for j in range(1, 7, <...>):\n",
    "            Liste[i - 1][<...>] = \"*\"\n",
    "            \n",
    "    for Zeile in Liste:\n",
    "        print(Zeile)\n",
    "    \n",
    "Ausgabe()"
   ]
  },
  {
   "cell_type": "markdown",
   "metadata": {},
   "source": [
    "### C\n",
    "\n",
    "<pre>[1, 0, 0, 0, 0, 0, 1]\n",
    "[1, 2, 0, 0, 0, 2, 2]\n",
    "[1, 2, 3, 0, 3, 3, 3]\n",
    "[1, 2, 3, 4, 4, 4, 4]</pre>"
   ]
  },
  {
   "cell_type": "code",
   "execution_count": null,
   "metadata": {},
   "outputs": [],
   "source": [
    "def Ausgabe():\n",
    "    Liste = [[0 for j in range(7)] for i in range(4)]\n",
    "\n",
    "    for i in range(1, 5):\n",
    "        for j in range(1, i + 1):\n",
    "            Liste[i - 1][j - 1] = <...>\n",
    "            Liste[i - 1][7 - j] = <...>\n",
    "            \n",
    "    for Zeile in Liste:\n",
    "        print(Zeile)\n",
    "\n",
    "Ausgabe()"
   ]
  },
  {
   "cell_type": "markdown",
   "metadata": {},
   "source": [
    "## 3.4 NSD umsetzen\n",
    "\n",
    "Die sogenannte Binäre Suche ist ein Algorithmus, der die schnelle Suche nach dem ersten Vorkommen eines Wertes in einem sortierten Feld von Werten erlaubt.\n",
    "\n",
    "Unten ist ein Algorithmus für die Binäre Suche in Form eines Nassi-Shneiderman-Diagramms (NSD) gegeben.\n",
    "Setzen Sie das gegebene NSD in eine Python-Funktion Found um.\n",
    "\n",
    "Der gesuchte Wert x und die Liste f, die die zu durchsuchenden Werte enthält, werden der Funktion als Formalparameter übergeben. Die Liste f enthält ganze Zahlen.\n",
    "\n",
    "Der Index des gesuchten Wertes in der Liste wird von der Funktion zurückgegeben. Falls das Element nicht gefunden wurde, gibt die Funktion den Wert -1 zurück.\n",
    "\n",
    "![NSD](../bilder/sose18-3-4.png)"
   ]
  },
  {
   "cell_type": "code",
   "execution_count": null,
   "metadata": {},
   "outputs": [],
   "source": [
    "# Hier Funktion Found einfügen\n",
    "\n",
    "\n",
    "# Funktion Found testen (sollte \"5\" und \"-1\" ausgeben)\n",
    "print(Found(10, [2, 3, 6, 7, 8, 10, 14, 17, 18, 20]))\n",
    "print(Found(10, [2, 3, 6, 7, 8, 14, 17, 18, 20]))"
   ]
  }
 ],
 "metadata": {
  "kernelspec": {
   "display_name": "Python 3",
   "language": "python",
   "name": "python3"
  },
  "language_info": {
   "codemirror_mode": {
    "name": "ipython",
    "version": 3
   },
   "file_extension": ".py",
   "mimetype": "text/x-python",
   "name": "python",
   "nbconvert_exporter": "python",
   "pygments_lexer": "ipython3",
   "version": "3.5.2"
  }
 },
 "nbformat": 4,
 "nbformat_minor": 2
}
