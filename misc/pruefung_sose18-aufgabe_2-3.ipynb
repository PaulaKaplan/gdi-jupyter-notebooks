{
 "cells": [
  {
   "cell_type": "markdown",
   "metadata": {},
   "source": [
    "# Prüfung SoSe18 - Aufgabe 2.3\n",
    "\n",
    "Aufgabe: Tragen Sie die Deklarationen für Attribute und Methode(n) der in der\n",
    "Spezifikation beschriebenen Klassen in die jeweils zugehörigen Python-Module ein.\n",
    "\n",
    "## Spezifikation (Aufgabe 2.3)\n",
    "\n",
    "Für die Verwaltung von Prüfungen und Anmeldungen zu diesen Prüfungen sollen in Python\n",
    "Objekte verwendet werden.\n",
    "\n",
    "Prüfungen sollen mit Prüfungsnummer und Name des Prüfungsfachs als Objekte der\n",
    "Klasse „Pruefung“ gespeichert werden.\n",
    "\n",
    "Prüfungsanmeldungen sollen mit Prüfungsnummer, Matrikelnummer, dem Anmeldedatum\n",
    "und erzielter Note als Objekte der Klasse „Anmeldung“ gespeichert werden.\n",
    "\n",
    "Tragen Sie Deklarationen und Quellcode für folgende Attribute und Methode(n) in die\n",
    "richtigen Quellcodebereiche ein:\n",
    "- Pruefungsnummer, z.B. „WIB128“, soll von jedem Programm gelesen werden können\n",
    "- Pruefungsfach, z.B. „Grundlagen der Informatik“ soll von jedem Programm gelesen werden können\n",
    "- Matrikelnummer, z.B. 02387645, soll gekapselt sein\n",
    "- Anmeldedatum, gekapselt\n",
    "- gemeldeteNote, gekapselt - die von den PrüferInnen gemeldete Note kann Werte zwischen 1,0 bis 5,0 oder den Wert „n“ für „nicht erschienen“ haben,\n",
    "- Ein getter Pruefungsnote soll:\n",
    "    - den Wert 0 zurückgegeben, falls in gemeldeteNote „n“ für „nicht erschienen“ eingetragen ist,\n",
    "    - in allen anderen Fällen den Wert von gemeldeteNote zurückgegeben."
   ]
  },
  {
   "cell_type": "code",
   "execution_count": null,
   "metadata": {},
   "outputs": [],
   "source": [
    "# Hier Klasse Pruefung eintragen\n"
   ]
  },
  {
   "cell_type": "code",
   "execution_count": null,
   "metadata": {},
   "outputs": [],
   "source": [
    "# Hier Klasse Anmeldung eintragen\n"
   ]
  },
  {
   "cell_type": "code",
   "execution_count": null,
   "metadata": {},
   "outputs": [],
   "source": []
  },
  {
   "cell_type": "code",
   "execution_count": null,
   "metadata": {},
   "outputs": [],
   "source": []
  },
  {
   "cell_type": "code",
   "execution_count": null,
   "metadata": {},
   "outputs": [],
   "source": []
  },
  {
   "cell_type": "code",
   "execution_count": null,
   "metadata": {},
   "outputs": [],
   "source": []
  },
  {
   "cell_type": "code",
   "execution_count": null,
   "metadata": {},
   "outputs": [],
   "source": []
  },
  {
   "cell_type": "code",
   "execution_count": null,
   "metadata": {},
   "outputs": [],
   "source": []
  },
  {
   "cell_type": "code",
   "execution_count": null,
   "metadata": {},
   "outputs": [],
   "source": []
  },
  {
   "cell_type": "code",
   "execution_count": null,
   "metadata": {},
   "outputs": [],
   "source": []
  },
  {
   "cell_type": "code",
   "execution_count": null,
   "metadata": {},
   "outputs": [],
   "source": []
  },
  {
   "cell_type": "code",
   "execution_count": null,
   "metadata": {},
   "outputs": [],
   "source": []
  },
  {
   "cell_type": "markdown",
   "metadata": {},
   "source": [
    "## Lösung"
   ]
  },
  {
   "cell_type": "code",
   "execution_count": null,
   "metadata": {},
   "outputs": [],
   "source": [
    "# Hier Klasse Pruefung eintragen\n",
    "class Pruefung:\n",
    "    def __init__(self, pruefungsnummer = \"\", pruefungsfach = \"\"):\n",
    "        self.pruefungsnummer = pruefungsnummer\n",
    "        self.pruefungsfach = pruefungsfach"
   ]
  },
  {
   "cell_type": "code",
   "execution_count": null,
   "metadata": {},
   "outputs": [],
   "source": [
    "# Hier Klasse Anmeldung eintragen\n",
    "class Anmeldung:\n",
    "    def __init__(self, pruefungsnummer = \"\", matrikelnummer = 0, anmededatum = 0, note = \"n\"):\n",
    "        self.pruefungsnummer = pruefungsnummer\n",
    "        self.__matrikelnummer = matrikelnummer\n",
    "        self.__anmededatum = anmededatum\n",
    "        self.__note = note\n",
    "        \n",
    "    def Pruefungsnote(self):\n",
    "        if self.__note == \"n\":\n",
    "            return 0\n",
    "        else:\n",
    "            return self.__note"
   ]
  }
 ],
 "metadata": {
  "kernelspec": {
   "display_name": "Python 3",
   "language": "python",
   "name": "python3"
  },
  "language_info": {
   "codemirror_mode": {
    "name": "ipython",
    "version": 3
   },
   "file_extension": ".py",
   "mimetype": "text/x-python",
   "name": "python",
   "nbconvert_exporter": "python",
   "pygments_lexer": "ipython3",
   "version": "3.5.2"
  }
 },
 "nbformat": 4,
 "nbformat_minor": 2
}
